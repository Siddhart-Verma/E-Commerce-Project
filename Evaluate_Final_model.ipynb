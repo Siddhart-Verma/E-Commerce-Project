{
 "cells": [
  {
   "cell_type": "code",
   "execution_count": 1,
   "id": "2ae19e86",
   "metadata": {},
   "outputs": [
    {
     "name": "stdout",
     "output_type": "stream",
     "text": [
      "[LightGBM] [Info] Auto-choosing row-wise multi-threading, the overhead of testing was 0.033848 seconds.\n",
      "You can set `force_row_wise=true` to remove the overhead.\n",
      "And if memory is not enough, you can set `force_col_wise=true`.\n",
      "[LightGBM] [Info] Total Bins 1217\n",
      "[LightGBM] [Info] Number of data points in the train set: 800000, number of used features: 103\n",
      "[LightGBM] [Info] Start training from score 8.189623\n",
      "[LightGBM] [Info] Auto-choosing row-wise multi-threading, the overhead of testing was 0.038042 seconds.\n",
      "You can set `force_row_wise=true` to remove the overhead.\n",
      "And if memory is not enough, you can set `force_col_wise=true`.\n",
      "[LightGBM] [Info] Total Bins 1221\n",
      "[LightGBM] [Info] Number of data points in the train set: 800000, number of used features: 106\n",
      "[LightGBM] [Info] Start training from score 8.778097\n",
      "[LightGBM] [Info] Auto-choosing row-wise multi-threading, the overhead of testing was 0.034786 seconds.\n",
      "You can set `force_row_wise=true` to remove the overhead.\n",
      "And if memory is not enough, you can set `force_col_wise=true`.\n",
      "[LightGBM] [Info] Total Bins 1220\n",
      "[LightGBM] [Info] Number of data points in the train set: 800000, number of used features: 105\n",
      "[LightGBM] [Info] Start training from score 8.616556\n",
      "[LightGBM] [Info] Auto-choosing row-wise multi-threading, the overhead of testing was 0.036947 seconds.\n",
      "You can set `force_row_wise=true` to remove the overhead.\n",
      "And if memory is not enough, you can set `force_col_wise=true`.\n",
      "[LightGBM] [Info] Total Bins 1222\n",
      "[LightGBM] [Info] Number of data points in the train set: 800000, number of used features: 106\n",
      "[LightGBM] [Info] Start training from score 8.655794\n",
      "[LightGBM] [Info] Auto-choosing row-wise multi-threading, the overhead of testing was 0.036590 seconds.\n",
      "You can set `force_row_wise=true` to remove the overhead.\n",
      "And if memory is not enough, you can set `force_col_wise=true`.\n",
      "[LightGBM] [Info] Total Bins 1220\n",
      "[LightGBM] [Info] Number of data points in the train set: 800000, number of used features: 106\n",
      "[LightGBM] [Info] Start training from score 8.948888\n",
      "Cross-Validation RMSE scores for each fold: [14.41268697 20.59395129 17.6625519  12.29057954 18.65256844]\n",
      "Average Cross-Validation RMSE: 16.7225\n"
     ]
    }
   ],
   "source": [
    "# -------------------------------------------\n",
    "# Step 1: Import libraries\n",
    "# -------------------------------------------\n",
    "import pandas as pd\n",
    "import numpy as np\n",
    "from lightgbm import LGBMRegressor\n",
    "from sklearn.model_selection import cross_val_score\n",
    "\n",
    "# -------------------------------------------\n",
    "# Step 2: Load the data\n",
    "# -------------------------------------------\n",
    "x = pd.read_csv('after_model_file/x_scaled_df.csv')\n",
    "y = pd.read_csv('after_model_file/y_train.csv')\n",
    "\n",
    "# -------------------------------------------\n",
    "# Step 3: Initialize the model\n",
    "# -------------------------------------------\n",
    "final_lgbm = LGBMRegressor(\n",
    "    learning_rate=0.1,\n",
    "    max_depth=8,\n",
    "    n_estimators=200,\n",
    "    random_state=42\n",
    ")\n",
    "\n",
    "# -------------------------------------------\n",
    "# Step 4: Perform Cross-Validation\n",
    "# -------------------------------------------\n",
    "# Perform 5-fold cross-validation\n",
    "cv_scores = cross_val_score(final_lgbm, x, y.values.ravel(), cv=5, scoring='neg_root_mean_squared_error')\n",
    "\n",
    "# Convert negative RMSE to positive\n",
    "cv_rmse = -cv_scores\n",
    "\n",
    "# -------------------------------------------\n",
    "# Step 5: Print the results\n",
    "# -------------------------------------------\n",
    "print(f\"Cross-Validation RMSE scores for each fold: {cv_rmse}\")\n",
    "print(f\"Average Cross-Validation RMSE: {np.mean(cv_rmse):.4f}\")\n"
   ]
  }
 ],
 "metadata": {
  "kernelspec": {
   "display_name": "Python 3",
   "language": "python",
   "name": "python3"
  },
  "language_info": {
   "codemirror_mode": {
    "name": "ipython",
    "version": 3
   },
   "file_extension": ".py",
   "mimetype": "text/x-python",
   "name": "python",
   "nbconvert_exporter": "python",
   "pygments_lexer": "ipython3",
   "version": "3.12.9"
  }
 },
 "nbformat": 4,
 "nbformat_minor": 5
}
