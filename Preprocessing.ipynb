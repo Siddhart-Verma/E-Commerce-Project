{
 "cells": [
  {
   "cell_type": "code",
   "execution_count": 152,
   "id": "5baf4464",
   "metadata": {},
   "outputs": [],
   "source": [
    "import pandas as pd\n",
    "final_train = pd.read_csv(\"final_merge_datasets_5/final_merge_train_dataset.csv\",parse_dates=['date'])\n",
    "final_test = pd.read_csv(\"final_merge_datasets_5/final_merge_test_dataset.csv\",parse_dates=['date'])"
   ]
  },
  {
   "cell_type": "code",
   "execution_count": 153,
   "id": "694712df",
   "metadata": {},
   "outputs": [
    {
     "name": "stdout",
     "output_type": "stream",
     "text": [
      "id                      int64\n",
      "date           datetime64[ns]\n",
      "store_nbr               int64\n",
      "item_nbr                int64\n",
      "onpromotion              bool\n",
      "family                 object\n",
      "class                   int64\n",
      "perishable              int64\n",
      "dcoilwtico            float64\n",
      "city                   object\n",
      "state                  object\n",
      "store_grade            object\n",
      "cluster                 int64\n",
      "dtype: object\n"
     ]
    }
   ],
   "source": [
    "print(final_test.dtypes)"
   ]
  },
  {
   "cell_type": "code",
   "execution_count": 154,
   "id": "8dec064d",
   "metadata": {},
   "outputs": [
    {
     "data": {
      "text/plain": [
       "array([False])"
      ]
     },
     "execution_count": 154,
     "metadata": {},
     "output_type": "execute_result"
    }
   ],
   "source": [
    "final_train['onpromotion'].unique()"
   ]
  },
  {
   "cell_type": "markdown",
   "id": "c21adbeb",
   "metadata": {},
   "source": [
    "## Checking for Missing (Null) Values if yes then remove it"
   ]
  },
  {
   "cell_type": "code",
   "execution_count": 155,
   "id": "9a29361e",
   "metadata": {},
   "outputs": [
    {
     "data": {
      "text/plain": [
       "id              0\n",
       "date            0\n",
       "store_nbr       0\n",
       "item_nbr        0\n",
       "unit_sales      0\n",
       "onpromotion     0\n",
       "Day_type        0\n",
       "locale          0\n",
       "locale_name     0\n",
       "description     0\n",
       "transferred     0\n",
       "family          0\n",
       "class           0\n",
       "perishable      0\n",
       "dcoilwtico      0\n",
       "city            0\n",
       "state           0\n",
       "store_grade     0\n",
       "cluster         0\n",
       "transactions    0\n",
       "city_state      0\n",
       "day_of_week     0\n",
       "day_name        0\n",
       "dtype: int64"
      ]
     },
     "execution_count": 155,
     "metadata": {},
     "output_type": "execute_result"
    }
   ],
   "source": [
    "final_train.isnull().sum()"
   ]
  },
  {
   "cell_type": "markdown",
   "id": "dfcbb2fa",
   "metadata": {},
   "source": [
    "## Handling Categorical Variables"
   ]
  },
  {
   "cell_type": "code",
   "execution_count": 156,
   "id": "76a59cc4",
   "metadata": {},
   "outputs": [
    {
     "data": {
      "text/plain": [
       "id                      int64\n",
       "date           datetime64[ns]\n",
       "store_nbr               int64\n",
       "item_nbr                int64\n",
       "onpromotion              bool\n",
       "family                 object\n",
       "class                   int64\n",
       "perishable              int64\n",
       "dcoilwtico            float64\n",
       "city                   object\n",
       "state                  object\n",
       "store_grade            object\n",
       "cluster                 int64\n",
       "dtype: object"
      ]
     },
     "execution_count": 156,
     "metadata": {},
     "output_type": "execute_result"
    }
   ],
   "source": [
    "final_test.dtypes"
   ]
  },
  {
   "cell_type": "code",
   "execution_count": 157,
   "id": "0d09c10b",
   "metadata": {},
   "outputs": [
    {
     "data": {
      "text/plain": [
       "array(['Tuesday', 'Wednessday', 'Thursday', 'Friday', 'Satureday',\n",
       "       'Sunday', 'Monday'], dtype=object)"
      ]
     },
     "execution_count": 157,
     "metadata": {},
     "output_type": "execute_result"
    }
   ],
   "source": [
    "final_train['day_name'].unique()"
   ]
  },
  {
   "cell_type": "code",
   "execution_count": null,
   "id": "c87f0747",
   "metadata": {},
   "outputs": [
    {
     "name": "stdout",
     "output_type": "stream",
     "text": [
      "Index(['Day_type', 'locale', 'locale_name', 'description', 'family', 'city',\n",
      "       'state', 'store_grade', 'city_state', 'day_name'],\n",
      "      dtype='object')\n",
      "Index(['family', 'city', 'state', 'store_grade'], dtype='object')\n"
     ]
    }
   ],
   "source": [
    "categorical_column = final_train.select_dtypes(include=['object']).columns\n",
    "print(categorical_column)\n",
    "\n",
    "categorical_columns = final_test.select_dtypes(include=['object']).columns\n",
    "print(categorical_columns)"
   ]
  },
  {
   "cell_type": "code",
   "execution_count": null,
   "id": "c9d655e9",
   "metadata": {},
   "outputs": [],
   "source": []
  },
  {
   "cell_type": "code",
   "execution_count": 159,
   "id": "d8b5b09f",
   "metadata": {},
   "outputs": [
    {
     "data": {
      "text/plain": [
       "id                        int64\n",
       "date             datetime64[ns]\n",
       "store_nbr                 int64\n",
       "item_nbr                  int64\n",
       "onpromotion                bool\n",
       "                      ...      \n",
       "store_grade_A              bool\n",
       "store_grade_B              bool\n",
       "store_grade_C              bool\n",
       "store_grade_D              bool\n",
       "store_grade_E              bool\n",
       "Length: 85, dtype: object"
      ]
     },
     "execution_count": 159,
     "metadata": {},
     "output_type": "execute_result"
    }
   ],
   "source": [
    "final_train = pd.get_dummies(final_train,columns = categorical_column)\n",
    "final_train.dtypes\n",
    "final_test = pd.get_dummies(final_test, columns = categorical_columns)\n",
    "final_test.dtypes"
   ]
  },
  {
   "cell_type": "code",
   "execution_count": 160,
   "id": "4c1f9dad",
   "metadata": {},
   "outputs": [
    {
     "name": "stdout",
     "output_type": "stream",
     "text": [
      "   id       date  store_nbr  item_nbr  unit_sales  onpromotion  transferred  \\\n",
      "0   0 2013-01-01         25    103665         7.0        False        False   \n",
      "1   1 2013-01-01         25    105574         1.0        False        False   \n",
      "2   2 2013-01-01         25    105575         2.0        False        False   \n",
      "3   3 2013-01-01         25    108079         1.0        False        False   \n",
      "4   4 2013-01-01         25    108701         1.0        False        False   \n",
      "\n",
      "   class  perishable  dcoilwtico  ...  city_state_Riobamba, Chimborazo  \\\n",
      "0   2712           1   67.714366  ...                            False   \n",
      "1   1045           0   67.714366  ...                            False   \n",
      "2   1045           0   67.714366  ...                            False   \n",
      "3   1030           0   67.714366  ...                            False   \n",
      "4   2644           1   67.714366  ...                            False   \n",
      "\n",
      "   city_state_Salinas, Santa Elena  \\\n",
      "0                             True   \n",
      "1                             True   \n",
      "2                             True   \n",
      "3                             True   \n",
      "4                             True   \n",
      "\n",
      "   city_state_Santo Domingo, Santo Domingo de los Tsachilas  day_name_Friday  \\\n",
      "0                                              False                   False   \n",
      "1                                              False                   False   \n",
      "2                                              False                   False   \n",
      "3                                              False                   False   \n",
      "4                                              False                   False   \n",
      "\n",
      "   day_name_Monday  day_name_Satureday  day_name_Sunday  day_name_Thursday  \\\n",
      "0            False               False            False              False   \n",
      "1            False               False            False              False   \n",
      "2            False               False            False              False   \n",
      "3            False               False            False              False   \n",
      "4            False               False            False              False   \n",
      "\n",
      "   day_name_Tuesday  day_name_Wednessday  \n",
      "0              True                False  \n",
      "1              True                False  \n",
      "2              True                False  \n",
      "3              True                False  \n",
      "4              True                False  \n",
      "\n",
      "[5 rows x 110 columns]\n",
      "          id       date  store_nbr  item_nbr  onpromotion  class  perishable  \\\n",
      "0  125497040 2017-08-16          1     96995        False   1093           0   \n",
      "1  125497041 2017-08-16          1     99197        False   1067           0   \n",
      "2  125497042 2017-08-16          1    103501        False   3008           0   \n",
      "3  125497043 2017-08-16          1    103520        False   1028           0   \n",
      "4  125497044 2017-08-16          1    103665        False   2712           1   \n",
      "\n",
      "   dcoilwtico  cluster  family_AUTOMOTIVE  ...  state_Pastaza  \\\n",
      "0        46.8       13              False  ...          False   \n",
      "1        46.8       13              False  ...          False   \n",
      "2        46.8       13              False  ...          False   \n",
      "3        46.8       13              False  ...          False   \n",
      "4        46.8       13              False  ...          False   \n",
      "\n",
      "   state_Pichincha  state_Santa Elena  state_Santo Domingo de los Tsachilas  \\\n",
      "0             True              False                                 False   \n",
      "1             True              False                                 False   \n",
      "2             True              False                                 False   \n",
      "3             True              False                                 False   \n",
      "4             True              False                                 False   \n",
      "\n",
      "   state_Tungurahua  store_grade_A  store_grade_B  store_grade_C  \\\n",
      "0             False          False          False          False   \n",
      "1             False          False          False          False   \n",
      "2             False          False          False          False   \n",
      "3             False          False          False          False   \n",
      "4             False          False          False          False   \n",
      "\n",
      "   store_grade_D  store_grade_E  \n",
      "0           True          False  \n",
      "1           True          False  \n",
      "2           True          False  \n",
      "3           True          False  \n",
      "4           True          False  \n",
      "\n",
      "[5 rows x 85 columns]\n"
     ]
    }
   ],
   "source": [
    "print(final_train.head())\n",
    "print(final_test.head())"
   ]
  },
  {
   "cell_type": "code",
   "execution_count": 161,
   "id": "4a16bc78",
   "metadata": {},
   "outputs": [
    {
     "name": "stdout",
     "output_type": "stream",
     "text": [
      "bool              99\n",
      "int64              8\n",
      "float64            2\n",
      "datetime64[ns]     1\n",
      "Name: count, dtype: int64\n",
      "bool              77\n",
      "int64              6\n",
      "datetime64[ns]     1\n",
      "float64            1\n",
      "Name: count, dtype: int64\n"
     ]
    }
   ],
   "source": [
    "print(final_train.dtypes.value_counts())\n",
    "print(final_test.dtypes.value_counts())"
   ]
  },
  {
   "cell_type": "markdown",
   "id": "ba76bc0b",
   "metadata": {},
   "source": [
    "Checking data is normally distributed or "
   ]
  },
  {
   "cell_type": "code",
   "execution_count": 162,
   "id": "6fca6126",
   "metadata": {},
   "outputs": [],
   "source": [
    "#import matplotlib.pyplot as plt\n",
    "#import seaborn as sns\n",
    "\n",
    "# Example for one feature, like 'unit_sales'\n",
    "#sns.histplot(final_train['unit_sales'], kde=True)\n",
    "#plt.show()"
   ]
  },
  {
   "cell_type": "code",
   "execution_count": null,
   "id": "9059d5a1",
   "metadata": {},
   "outputs": [],
   "source": []
  },
  {
   "cell_type": "code",
   "execution_count": null,
   "id": "b00211e4",
   "metadata": {},
   "outputs": [],
   "source": []
  },
  {
   "cell_type": "code",
   "execution_count": 163,
   "id": "ed709eb0",
   "metadata": {},
   "outputs": [],
   "source": [
    "# First, align columns\n",
    "final_test_df = final_test.reindex(columns=final_train.drop('unit_sales', axis=1).columns, fill_value=0)\n"
   ]
  },
  {
   "cell_type": "markdown",
   "id": "62b5acda",
   "metadata": {},
   "source": [
    "## Feature Scaling\n",
    "\n",
    "### Normilization (MinMaxScaler) Works\n",
    "### Scaled Value = (X - X min)/(X max - X min)\n",
    "\n",
    "### Where:\n",
    "### X = current value\n",
    "### X min = minimum value in column\n",
    "### X max = maximum value in column"
   ]
  },
  {
   "cell_type": "code",
   "execution_count": 164,
   "id": "f353ee6f",
   "metadata": {},
   "outputs": [],
   "source": [
    "from sklearn.preprocessing import MinMaxScaler"
   ]
  },
  {
   "cell_type": "code",
   "execution_count": null,
   "id": "383ec7d0",
   "metadata": {},
   "outputs": [],
   "source": []
  },
  {
   "cell_type": "code",
   "execution_count": 165,
   "id": "d88e53b9",
   "metadata": {},
   "outputs": [],
   "source": [
    "train_scale = final_train.copy()"
   ]
  },
  {
   "cell_type": "code",
   "execution_count": 166,
   "id": "dfa43107",
   "metadata": {},
   "outputs": [],
   "source": [
    "y = train_scale['unit_sales']\n",
    "x = train_scale.drop(['unit_sales','date'], axis=1)\n",
    "\n",
    "x_test = final_test.copy()"
   ]
  },
  {
   "cell_type": "markdown",
   "id": "047824f4",
   "metadata": {},
   "source": [
    "### 2. Align final_test columns to match x columns"
   ]
  },
  {
   "cell_type": "code",
   "execution_count": 167,
   "id": "442d133d",
   "metadata": {},
   "outputs": [],
   "source": [
    "# Align columns\n",
    "x_test = x_test.reindex(columns=x.columns, fill_value=0)\n"
   ]
  },
  {
   "cell_type": "markdown",
   "id": "d424b2f9",
   "metadata": {},
   "source": [
    "y = What we are trying to predict = unit_sales\n",
    "\n",
    "X = All other columns (except unit_sales and date) that help predict y\n",
    "\n",
    ".drop() = Remove columns\n",
    "\n",
    "axis=1 = Means remove column, not row"
   ]
  },
  {
   "cell_type": "markdown",
   "id": "646883f3",
   "metadata": {},
   "source": [
    "## 3. Create and Fit MinMaxScaler"
   ]
  },
  {
   "cell_type": "code",
   "execution_count": 168,
   "id": "067d29a2",
   "metadata": {},
   "outputs": [],
   "source": [
    "scaler = MinMaxScaler()"
   ]
  },
  {
   "cell_type": "code",
   "execution_count": 169,
   "id": "2ee8ce6f",
   "metadata": {},
   "outputs": [],
   "source": [
    "x_scaled = scaler.fit_transform(x)\n",
    "x_test_scaler = scaler.transform(x_test)"
   ]
  },
  {
   "cell_type": "markdown",
   "id": "97b8a3d0",
   "metadata": {},
   "source": [
    "## 4. Convert Scaled Data back to DataFrame"
   ]
  },
  {
   "cell_type": "code",
   "execution_count": 170,
   "id": "36096220",
   "metadata": {},
   "outputs": [],
   "source": [
    "x_scaled = pd.DataFrame(x_scaled, columns=x.columns)\n",
    "x_test_scaler = pd.DataFrame(x_test_scaler, columns=x_test.columns)"
   ]
  },
  {
   "cell_type": "code",
   "execution_count": 171,
   "id": "adcc108d",
   "metadata": {},
   "outputs": [
    {
     "name": "stdout",
     "output_type": "stream",
     "text": [
      "         id  store_nbr  item_nbr  onpromotion  transferred     class  \\\n",
      "0  0.000000    0.45283  0.006528          0.0          0.0  0.283488   \n",
      "1  0.000001    0.45283  0.008397          0.0          0.0  0.007129   \n",
      "2  0.000002    0.45283  0.008398          0.0          0.0  0.007129   \n",
      "3  0.000003    0.45283  0.010849          0.0          0.0  0.004642   \n",
      "4  0.000004    0.45283  0.011458          0.0          0.0  0.272215   \n",
      "\n",
      "   perishable  dcoilwtico  cluster  transactions  ...  \\\n",
      "0         1.0         0.0      0.0      0.053739  ...   \n",
      "1         0.0         0.0      0.0      0.053739  ...   \n",
      "2         0.0         0.0      0.0      0.053739  ...   \n",
      "3         0.0         0.0      0.0      0.053739  ...   \n",
      "4         1.0         0.0      0.0      0.053739  ...   \n",
      "\n",
      "   city_state_Riobamba, Chimborazo  city_state_Salinas, Santa Elena  \\\n",
      "0                              0.0                              1.0   \n",
      "1                              0.0                              1.0   \n",
      "2                              0.0                              1.0   \n",
      "3                              0.0                              1.0   \n",
      "4                              0.0                              1.0   \n",
      "\n",
      "   city_state_Santo Domingo, Santo Domingo de los Tsachilas  day_name_Friday  \\\n",
      "0                                                0.0                     0.0   \n",
      "1                                                0.0                     0.0   \n",
      "2                                                0.0                     0.0   \n",
      "3                                                0.0                     0.0   \n",
      "4                                                0.0                     0.0   \n",
      "\n",
      "   day_name_Monday  day_name_Satureday  day_name_Sunday  day_name_Thursday  \\\n",
      "0              0.0                 0.0              0.0                0.0   \n",
      "1              0.0                 0.0              0.0                0.0   \n",
      "2              0.0                 0.0              0.0                0.0   \n",
      "3              0.0                 0.0              0.0                0.0   \n",
      "4              0.0                 0.0              0.0                0.0   \n",
      "\n",
      "   day_name_Tuesday  day_name_Wednessday  \n",
      "0               1.0                  0.0  \n",
      "1               1.0                  0.0  \n",
      "2               1.0                  0.0  \n",
      "3               1.0                  0.0  \n",
      "4               1.0                  0.0  \n",
      "\n",
      "[5 rows x 108 columns]\n"
     ]
    }
   ],
   "source": [
    "print(x_scaled.head())"
   ]
  },
  {
   "cell_type": "code",
   "execution_count": 172,
   "id": "e752b8d4",
   "metadata": {},
   "outputs": [
    {
     "name": "stdout",
     "output_type": "stream",
     "text": [
      "           id  store_nbr  item_nbr  onpromotion  transferred     class  \\\n",
      "0  125.497165        0.0  0.000000          0.0          0.0  0.015086   \n",
      "1  125.497166        0.0  0.002155          0.0          0.0  0.010776   \n",
      "2  125.497167        0.0  0.006368          0.0          0.0  0.332560   \n",
      "3  125.497168        0.0  0.006386          0.0          0.0  0.004310   \n",
      "4  125.497169        0.0  0.006528          0.0          0.0  0.283488   \n",
      "\n",
      "   perishable  dcoilwtico  cluster  transactions  ...  \\\n",
      "0         0.0   -0.737054     0.75     -0.103596  ...   \n",
      "1         0.0   -0.737054     0.75     -0.103596  ...   \n",
      "2         0.0   -0.737054     0.75     -0.103596  ...   \n",
      "3         0.0   -0.737054     0.75     -0.103596  ...   \n",
      "4         1.0   -0.737054     0.75     -0.103596  ...   \n",
      "\n",
      "   city_state_Riobamba, Chimborazo  city_state_Salinas, Santa Elena  \\\n",
      "0                              0.0                              0.0   \n",
      "1                              0.0                              0.0   \n",
      "2                              0.0                              0.0   \n",
      "3                              0.0                              0.0   \n",
      "4                              0.0                              0.0   \n",
      "\n",
      "   city_state_Santo Domingo, Santo Domingo de los Tsachilas  day_name_Friday  \\\n",
      "0                                                0.0                     0.0   \n",
      "1                                                0.0                     0.0   \n",
      "2                                                0.0                     0.0   \n",
      "3                                                0.0                     0.0   \n",
      "4                                                0.0                     0.0   \n",
      "\n",
      "   day_name_Monday  day_name_Satureday  day_name_Sunday  day_name_Thursday  \\\n",
      "0              0.0                 0.0              0.0                0.0   \n",
      "1              0.0                 0.0              0.0                0.0   \n",
      "2              0.0                 0.0              0.0                0.0   \n",
      "3              0.0                 0.0              0.0                0.0   \n",
      "4              0.0                 0.0              0.0                0.0   \n",
      "\n",
      "   day_name_Tuesday  day_name_Wednessday  \n",
      "0               0.0                  0.0  \n",
      "1               0.0                  0.0  \n",
      "2               0.0                  0.0  \n",
      "3               0.0                  0.0  \n",
      "4               0.0                  0.0  \n",
      "\n",
      "[5 rows x 108 columns]\n"
     ]
    }
   ],
   "source": [
    "print(x_test_scaler.head())"
   ]
  },
  {
   "cell_type": "code",
   "execution_count": 173,
   "id": "d93c6c64",
   "metadata": {},
   "outputs": [
    {
     "data": {
      "text/plain": [
       "(3370464, 108)"
      ]
     },
     "execution_count": 173,
     "metadata": {},
     "output_type": "execute_result"
    }
   ],
   "source": [
    "x_test_scaler.shape"
   ]
  },
  {
   "cell_type": "markdown",
   "id": "02090955",
   "metadata": {},
   "source": [
    "## Prepare Validation"
   ]
  },
  {
   "cell_type": "code",
   "execution_count": 174,
   "id": "1e7a7d11",
   "metadata": {},
   "outputs": [],
   "source": [
    "from sklearn.model_selection import train_test_split"
   ]
  },
  {
   "cell_type": "code",
   "execution_count": null,
   "id": "7cbfbb09",
   "metadata": {},
   "outputs": [
    {
     "name": "stdout",
     "output_type": "stream",
     "text": [
      "x_train shape: (800000, 108)\n",
      "x_valid shape: (200000, 108)\n",
      "y_train shape: (800000,)\n",
      "y_valid shape: (200000,)\n"
     ]
    }
   ],
   "source": [
    "\n",
    "\n",
    "# Assume you already have x_scaled and y ready\n",
    "\n",
    "# Split into training and validation sets\n",
    "x_train, x_valid, y_train, y_valid = train_test_split(\n",
    "    x_scaled, y, test_size=0.2, random_state=42,shuffle=True)\n",
    "\n",
    "# Checking the shape of the splits\n",
    "print(\"x_train shape:\", x_train.shape)\n",
    "print(\"x_valid shape:\", x_valid.shape)\n",
    "print(\"y_train shape:\", y_train.shape)\n",
    "print(\"y_valid shape:\", y_valid.shape)\n"
   ]
  },
  {
   "cell_type": "code",
   "execution_count": 176,
   "id": "e4e2c5c6",
   "metadata": {},
   "outputs": [],
   "source": [
    "final_train.to_csv(\"data_for_model/train.csv\", index=False)\n",
    "final_test.to_csv(\"data_for_model/test.csv\", index=False)"
   ]
  },
  {
   "cell_type": "code",
   "execution_count": 177,
   "id": "4a5ada5f",
   "metadata": {},
   "outputs": [
    {
     "data": {
      "text/plain": [
       "id                        int64\n",
       "date             datetime64[ns]\n",
       "store_nbr                 int64\n",
       "item_nbr                  int64\n",
       "onpromotion                bool\n",
       "                      ...      \n",
       "store_grade_A              bool\n",
       "store_grade_B              bool\n",
       "store_grade_C              bool\n",
       "store_grade_D              bool\n",
       "store_grade_E              bool\n",
       "Length: 85, dtype: object"
      ]
     },
     "execution_count": 177,
     "metadata": {},
     "output_type": "execute_result"
    }
   ],
   "source": [
    "final_test.dtypes"
   ]
  },
  {
   "cell_type": "code",
   "execution_count": 178,
   "id": "35e4d798",
   "metadata": {},
   "outputs": [],
   "source": [
    "x_train.to_csv(\"data_for_model/x_train.csv\", index=False)\n",
    "x_valid.to_csv(\"data_for_model/x_valid.csv\", index=False)\n",
    "x_test_scaler.to_csv(\"data_for_model/x_test_scaler.csv\", index=False)\n"
   ]
  },
  {
   "cell_type": "code",
   "execution_count": 179,
   "id": "bfba07ef",
   "metadata": {},
   "outputs": [],
   "source": [
    "x_scaled.to_csv(\"data_for_model/x_train_df.csv\", index=False)"
   ]
  },
  {
   "cell_type": "code",
   "execution_count": 180,
   "id": "47633d41",
   "metadata": {},
   "outputs": [],
   "source": [
    "y_train.to_frame(name=\"unit_sales\")\\\n",
    "       .to_csv(\"data_for_model/y_train.csv\", index=False)\n",
    "y_valid.to_frame(name=\"unit_sales\")\\\n",
    "       .to_csv(\"data_for_model/y_valid.csv\", index=False)"
   ]
  }
 ],
 "metadata": {
  "kernelspec": {
   "display_name": "Python 3",
   "language": "python",
   "name": "python3"
  },
  "language_info": {
   "codemirror_mode": {
    "name": "ipython",
    "version": 3
   },
   "file_extension": ".py",
   "mimetype": "text/x-python",
   "name": "python",
   "nbconvert_exporter": "python",
   "pygments_lexer": "ipython3",
   "version": "3.12.9"
  }
 },
 "nbformat": 4,
 "nbformat_minor": 5
}
