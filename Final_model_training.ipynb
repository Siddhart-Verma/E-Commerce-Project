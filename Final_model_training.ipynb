{
 "cells": [
  {
   "cell_type": "code",
   "execution_count": 8,
   "id": "27c35cb5",
   "metadata": {},
   "outputs": [
    {
     "name": "stdout",
     "output_type": "stream",
     "text": [
      "[LightGBM] [Info] Auto-choosing row-wise multi-threading, the overhead of testing was 0.042619 seconds.\n",
      "You can set `force_row_wise=true` to remove the overhead.\n",
      "And if memory is not enough, you can set `force_col_wise=true`.\n",
      "[LightGBM] [Info] Total Bins 1225\n",
      "[LightGBM] [Info] Number of data points in the train set: 1000000, number of used features: 106\n",
      "[LightGBM] [Info] Start training from score 8.637792\n"
     ]
    }
   ],
   "source": [
    "\n",
    "# 07_final_model_training.py\n",
    "\n",
    "\n",
    "import pandas as pd\n",
    "from lightgbm import LGBMRegressor\n",
    "import joblib\n",
    "\n",
    "\n",
    "# Step 2: Load the processed data\n",
    "\n",
    "# Load features and target\n",
    "x = pd.read_csv('after_model_file/x_scaled_df.csv')\n",
    "y = pd.read_csv('after_model_file/y_train.csv')\n",
    "x_test = pd.read_csv('after_model_file/x_test_scaled_df.csv')\n",
    "\n",
    "\n",
    "# Step 3: Initialize the final model with best parameters\n",
    "\n",
    "final_lgbm = LGBMRegressor(\n",
    "    learning_rate=0.1,\n",
    "    max_depth=8,\n",
    "    n_estimators=200,\n",
    "    random_state=42\n",
    ")\n",
    "\n",
    "\n",
    "# Step 4: Train the model\n",
    "\n",
    "final_lgbm.fit(x, y)\n",
    "\n",
    "\n",
    "# Step 5: Predict on test set\n",
    "\n",
    "y_pred = final_lgbm.predict(x_test)\n",
    "\n",
    "\n",
    "# Step 6: Save the trained model\n",
    "\n",
    "joblib.dump(final_lgbm, 'final_lgbm_model.pkl')\n",
    "\n",
    "\n",
    "# Step 7: Prepare and save the final submission\n",
    "\n",
    "# Load the test data to get the 'id' column\n",
    "test = pd.read_csv('data_for_model/test.csv')  # Make sure updated_test.csv is available\n",
    "\n",
    "# Create submission DataFrame\n",
    "submission = pd.DataFrame({\n",
    "    'id': test['id'],\n",
    "    'unit_sales': y_pred\n",
    "})\n",
    "\n",
    "# Save the submission file\n",
    "submission.to_csv('final_submission.csv', index=False)\n",
    "\n",
    "\n",
    "# DONE\n",
    "\n"
   ]
  }
 ],
 "metadata": {
  "kernelspec": {
   "display_name": "Python 3",
   "language": "python",
   "name": "python3"
  },
  "language_info": {
   "codemirror_mode": {
    "name": "ipython",
    "version": 3
   },
   "file_extension": ".py",
   "mimetype": "text/x-python",
   "name": "python",
   "nbconvert_exporter": "python",
   "pygments_lexer": "ipython3",
   "version": "3.12.9"
  }
 },
 "nbformat": 4,
 "nbformat_minor": 5
}
