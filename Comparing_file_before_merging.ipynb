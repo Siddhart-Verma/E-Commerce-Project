{
 "cells": [
  {
   "cell_type": "code",
   "execution_count": 2,
   "id": "bb5fe681",
   "metadata": {},
   "outputs": [],
   "source": [
    "import pandas as pd\n",
    "\n",
    "t = pd.read_csv(\"cleaned_raw_dataset/updated_train.csv\")\n",
    "i = pd.read_csv(\"cleaned_raw_dataset/clean_item_dataset.csv\")"
   ]
  },
  {
   "cell_type": "markdown",
   "id": "a9e190c3",
   "metadata": {},
   "source": [
    "### Checking Common columns inside clean train and item dataset for merging"
   ]
  },
  {
   "cell_type": "code",
   "execution_count": 3,
   "id": "65542b43",
   "metadata": {},
   "outputs": [
    {
     "name": "stdout",
     "output_type": "stream",
     "text": [
      "   id        date  store_nbr  item_nbr  unit_sales  onpromotion\n",
      "0   0  2013-01-01         25    103665         7.0        False\n",
      "1   1  2013-01-01         25    105574         1.0        False\n",
      "2   2  2013-01-01         25    105575         2.0        False\n",
      "3   3  2013-01-01         25    108079         1.0        False\n",
      "4   4  2013-01-01         25    108701         1.0        False \n",
      "\n",
      "    item_nbr        family  class  perishable\n",
      "0     96995     GROCERY I   1093           0\n",
      "1     99197     GROCERY I   1067           0\n",
      "2    103501      CLEANING   3008           0\n",
      "3    103520     GROCERY I   1028           0\n",
      "4    103665  BREAD/BAKERY   2712           1\n"
     ]
    }
   ],
   "source": [
    "print(t.head(), \"\\n\\n\",i.head())\n",
    "\n",
    "# item_nbr is common in both dataset"
   ]
  },
  {
   "cell_type": "code",
   "execution_count": null,
   "id": "853dc573",
   "metadata": {},
   "outputs": [],
   "source": []
  },
  {
   "cell_type": "markdown",
   "id": "7c081c20",
   "metadata": {},
   "source": [
    "### Checking Common columns inside clean train and holiday_event dataset for merging"
   ]
  },
  {
   "cell_type": "code",
   "execution_count": 5,
   "id": "06526b47",
   "metadata": {},
   "outputs": [],
   "source": [
    "holi = pd.read_csv(\"cleaned_raw_dataset/clean_holiday_event_dataset.csv\")"
   ]
  },
  {
   "cell_type": "code",
   "execution_count": 6,
   "id": "c2002dbf",
   "metadata": {},
   "outputs": [
    {
     "name": "stdout",
     "output_type": "stream",
     "text": [
      "   id        date  store_nbr  item_nbr  unit_sales  onpromotion\n",
      "0   0  2013-01-01         25    103665         7.0        False\n",
      "1   1  2013-01-01         25    105574         1.0        False\n",
      "2   2  2013-01-01         25    105575         2.0        False\n",
      "3   3  2013-01-01         25    108079         1.0        False\n",
      "4   4  2013-01-01         25    108701         1.0        False \n",
      "\n",
      "          date     type    locale locale_name                    description  \\\n",
      "0  2012-03-02  Holiday     Local       Manta             Fundacion de Manta   \n",
      "1  2012-04-01  Holiday  Regional    Cotopaxi  Provincializacion de Cotopaxi   \n",
      "2  2012-04-12  Holiday     Local      Cuenca            Fundacion de Cuenca   \n",
      "3  2012-04-14  Holiday     Local    Libertad      Cantonizacion de Libertad   \n",
      "4  2012-04-21  Holiday     Local    Riobamba      Cantonizacion de Riobamba   \n",
      "\n",
      "   transferred  \n",
      "0        False  \n",
      "1        False  \n",
      "2        False  \n",
      "3        False  \n",
      "4        False  \n"
     ]
    }
   ],
   "source": [
    "print(t.head(), \"\\n\\n\", holi.head())\n",
    "\n",
    "# date is common column in both dataset"
   ]
  },
  {
   "cell_type": "markdown",
   "id": "870c2515",
   "metadata": {},
   "source": [
    "### Checking Common columns inside clean train and oil dataset for merging"
   ]
  },
  {
   "cell_type": "code",
   "execution_count": 7,
   "id": "57b5b22e",
   "metadata": {},
   "outputs": [],
   "source": [
    "o = pd.read_csv(\"cleaned_raw_dataset/clean_oil_dataset.csv\")"
   ]
  },
  {
   "cell_type": "code",
   "execution_count": 8,
   "id": "a119aa63",
   "metadata": {},
   "outputs": [
    {
     "name": "stdout",
     "output_type": "stream",
     "text": [
      "   id        date  store_nbr  item_nbr  unit_sales  onpromotion\n",
      "0   0  2013-01-01         25    103665         7.0        False\n",
      "1   1  2013-01-01         25    105574         1.0        False\n",
      "2   2  2013-01-01         25    105575         2.0        False\n",
      "3   3  2013-01-01         25    108079         1.0        False\n",
      "4   4  2013-01-01         25    108701         1.0        False \n",
      "\n",
      "          date  dcoilwtico\n",
      "0  2013-01-01   67.714366\n",
      "1  2013-01-02   93.140000\n",
      "2  2013-01-03   92.970000\n",
      "3  2013-01-04   93.120000\n",
      "4  2013-01-07   93.200000\n"
     ]
    }
   ],
   "source": [
    "print(t.head(), \"\\n\\n\", o.head())\n",
    "\n",
    "# date is common column in both dataset"
   ]
  },
  {
   "cell_type": "markdown",
   "id": "81006692",
   "metadata": {},
   "source": [
    "### Checking Common columns inside clean train and store dataset for merging"
   ]
  },
  {
   "cell_type": "code",
   "execution_count": 9,
   "id": "a979a913",
   "metadata": {},
   "outputs": [],
   "source": [
    "s = pd.read_csv(\"cleaned_raw_dataset/clean_store_dataset.csv\")"
   ]
  },
  {
   "cell_type": "code",
   "execution_count": 10,
   "id": "3cd9d741",
   "metadata": {},
   "outputs": [
    {
     "name": "stdout",
     "output_type": "stream",
     "text": [
      "   id        date  store_nbr  item_nbr  unit_sales  onpromotion\n",
      "0   0  2013-01-01         25    103665         7.0        False\n",
      "1   1  2013-01-01         25    105574         1.0        False\n",
      "2   2  2013-01-01         25    105575         2.0        False\n",
      "3   3  2013-01-01         25    108079         1.0        False\n",
      "4   4  2013-01-01         25    108701         1.0        False \n",
      "\n",
      "    store_nbr           city                           state type  cluster\n",
      "0          1          Quito                       Pichincha    D       13\n",
      "1          2          Quito                       Pichincha    D       13\n",
      "2          3          Quito                       Pichincha    D        8\n",
      "3          4          Quito                       Pichincha    D        9\n",
      "4          5  Santo Domingo  Santo Domingo de los Tsachilas    D        4\n"
     ]
    }
   ],
   "source": [
    "print(t.head(),\"\\n\\n\",s.head())"
   ]
  },
  {
   "cell_type": "markdown",
   "id": "90ea2cd6",
   "metadata": {},
   "source": [
    "### Checking Common columns inside clean train and transaction dataset for merging"
   ]
  },
  {
   "cell_type": "code",
   "execution_count": 11,
   "id": "49a2734e",
   "metadata": {},
   "outputs": [],
   "source": [
    "tn = pd.read_csv(\"cleaned_raw_dataset/clean_transaction_dataset.csv\")"
   ]
  },
  {
   "cell_type": "code",
   "execution_count": 12,
   "id": "50825288",
   "metadata": {},
   "outputs": [
    {
     "name": "stdout",
     "output_type": "stream",
     "text": [
      "   id        date  store_nbr  item_nbr  unit_sales  onpromotion\n",
      "0   0  2013-01-01         25    103665         7.0        False\n",
      "1   1  2013-01-01         25    105574         1.0        False\n",
      "2   2  2013-01-01         25    105575         2.0        False\n",
      "3   3  2013-01-01         25    108079         1.0        False\n",
      "4   4  2013-01-01         25    108701         1.0        False \n",
      "\n",
      "          date  store_nbr  transactions\n",
      "0  2013-01-01         25           770\n",
      "1  2013-01-02          1          2111\n",
      "2  2013-01-02          2          2358\n",
      "3  2013-01-02          3          3487\n",
      "4  2013-01-02          4          1922\n"
     ]
    }
   ],
   "source": [
    "print(t.head(),\"\\n\\n\", tn.head())"
   ]
  },
  {
   "cell_type": "markdown",
   "id": "e8d5021f",
   "metadata": {},
   "source": []
  },
  {
   "cell_type": "markdown",
   "id": "ab68b7cb",
   "metadata": {},
   "source": [
    "## Now"
   ]
  },
  {
   "cell_type": "markdown",
   "id": "0e21e8cc",
   "metadata": {},
   "source": [
    "## Test"
   ]
  },
  {
   "cell_type": "code",
   "execution_count": 13,
   "id": "d3905f09",
   "metadata": {},
   "outputs": [],
   "source": [
    "test = pd.read_csv(\"cleaned_raw_dataset/clean_test_dataset.csv\")"
   ]
  },
  {
   "cell_type": "markdown",
   "id": "a8979557",
   "metadata": {},
   "source": [
    "### Checking Common columns inside clean test and item dataset for merging"
   ]
  },
  {
   "cell_type": "code",
   "execution_count": null,
   "id": "dd1496eb",
   "metadata": {},
   "outputs": [
    {
     "name": "stdout",
     "output_type": "stream",
     "text": [
      "          id        date  store_nbr  item_nbr  onpromotion\n",
      "0  125497040  2017-08-16          1     96995        False\n",
      "1  125497041  2017-08-16          1     99197        False\n",
      "2  125497042  2017-08-16          1    103501        False\n",
      "3  125497043  2017-08-16          1    103520        False\n",
      "4  125497044  2017-08-16          1    103665        False \n",
      "\n",
      "    item_nbr        family  class  perishable\n",
      "0     96995     GROCERY I   1093           0\n",
      "1     99197     GROCERY I   1067           0\n",
      "2    103501      CLEANING   3008           0\n",
      "3    103520     GROCERY I   1028           0\n",
      "4    103665  BREAD/BAKERY   2712           1\n"
     ]
    }
   ],
   "source": [
    "print(test.head(),\"\\n\\n\",i.head())\n",
    "\n",
    "# merge on the bases of item_nbr"
   ]
  },
  {
   "cell_type": "code",
   "execution_count": null,
   "id": "3b9a4dbd",
   "metadata": {},
   "outputs": [
    {
     "name": "stdout",
     "output_type": "stream",
     "text": [
      "          id        date  store_nbr  item_nbr  onpromotion\n",
      "0  125497040  2017-08-16          1     96995        False\n",
      "1  125497041  2017-08-16          1     99197        False\n",
      "2  125497042  2017-08-16          1    103501        False\n",
      "3  125497043  2017-08-16          1    103520        False\n",
      "4  125497044  2017-08-16          1    103665        False \n",
      "\n",
      "          date     type    locale locale_name                    description  \\\n",
      "0  2012-03-02  Holiday     Local       Manta             Fundacion de Manta   \n",
      "1  2012-04-01  Holiday  Regional    Cotopaxi  Provincializacion de Cotopaxi   \n",
      "2  2012-04-12  Holiday     Local      Cuenca            Fundacion de Cuenca   \n",
      "3  2012-04-14  Holiday     Local    Libertad      Cantonizacion de Libertad   \n",
      "4  2012-04-21  Holiday     Local    Riobamba      Cantonizacion de Riobamba   \n",
      "\n",
      "   transferred  \n",
      "0        False  \n",
      "1        False  \n",
      "2        False  \n",
      "3        False  \n",
      "4        False  \n"
     ]
    }
   ],
   "source": [
    "print(test.head(),\"\\n\\n\",holi.head())\n",
    "# merge on the bases of date"
   ]
  },
  {
   "cell_type": "code",
   "execution_count": null,
   "id": "80355d34",
   "metadata": {},
   "outputs": [
    {
     "name": "stdout",
     "output_type": "stream",
     "text": [
      "          id        date  store_nbr  item_nbr  onpromotion\n",
      "0  125497040  2017-08-16          1     96995        False\n",
      "1  125497041  2017-08-16          1     99197        False\n",
      "2  125497042  2017-08-16          1    103501        False\n",
      "3  125497043  2017-08-16          1    103520        False\n",
      "4  125497044  2017-08-16          1    103665        False \n",
      "\n",
      "    store_nbr           city                           state type  cluster\n",
      "0          1          Quito                       Pichincha    D       13\n",
      "1          2          Quito                       Pichincha    D       13\n",
      "2          3          Quito                       Pichincha    D        8\n",
      "3          4          Quito                       Pichincha    D        9\n",
      "4          5  Santo Domingo  Santo Domingo de los Tsachilas    D        4\n"
     ]
    }
   ],
   "source": [
    "print(test.head(),\"\\n\\n\",s.head())\n",
    "# merge on the bases of store_nbr"
   ]
  },
  {
   "cell_type": "code",
   "execution_count": null,
   "id": "0bc0e110",
   "metadata": {},
   "outputs": [
    {
     "name": "stdout",
     "output_type": "stream",
     "text": [
      "          id        date  store_nbr  item_nbr  onpromotion\n",
      "0  125497040  2017-08-16          1     96995        False\n",
      "1  125497041  2017-08-16          1     99197        False\n",
      "2  125497042  2017-08-16          1    103501        False\n",
      "3  125497043  2017-08-16          1    103520        False\n",
      "4  125497044  2017-08-16          1    103665        False \n",
      "\n",
      "          date  store_nbr  transactions\n",
      "0  2013-01-01         25           770\n",
      "1  2013-01-02          1          2111\n",
      "2  2013-01-02          2          2358\n",
      "3  2013-01-02          3          3487\n",
      "4  2013-01-02          4          1922\n"
     ]
    }
   ],
   "source": [
    "print(test.head(),\"\\n\\n\",tn.head())\n",
    "# merge on the bases of date, store_nbr"
   ]
  },
  {
   "cell_type": "code",
   "execution_count": null,
   "id": "f0838743",
   "metadata": {},
   "outputs": [
    {
     "name": "stdout",
     "output_type": "stream",
     "text": [
      "          id        date  store_nbr  item_nbr  onpromotion\n",
      "0  125497040  2017-08-16          1     96995        False\n",
      "1  125497041  2017-08-16          1     99197        False\n",
      "2  125497042  2017-08-16          1    103501        False\n",
      "3  125497043  2017-08-16          1    103520        False\n",
      "4  125497044  2017-08-16          1    103665        False \n",
      "\n",
      "          date  dcoilwtico\n",
      "0  2013-01-01   67.714366\n",
      "1  2013-01-02   93.140000\n",
      "2  2013-01-03   92.970000\n",
      "3  2013-01-04   93.120000\n",
      "4  2013-01-07   93.200000\n"
     ]
    }
   ],
   "source": [
    "print(test.head(),\"\\n\\n\",o.head())\n",
    "# merge on the bases of date"
   ]
  },
  {
   "cell_type": "code",
   "execution_count": null,
   "id": "5996494d",
   "metadata": {},
   "outputs": [],
   "source": []
  }
 ],
 "metadata": {
  "kernelspec": {
   "display_name": "Python 3",
   "language": "python",
   "name": "python3"
  },
  "language_info": {
   "codemirror_mode": {
    "name": "ipython",
    "version": 3
   },
   "file_extension": ".py",
   "mimetype": "text/x-python",
   "name": "python",
   "nbconvert_exporter": "python",
   "pygments_lexer": "ipython3",
   "version": "3.12.9"
  }
 },
 "nbformat": 4,
 "nbformat_minor": 5
}
