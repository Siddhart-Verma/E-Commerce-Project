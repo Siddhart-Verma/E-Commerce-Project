{
 "cells": [
  {
   "cell_type": "code",
   "execution_count": 4,
   "id": "17a0cd8f",
   "metadata": {},
   "outputs": [
    {
     "name": "stderr",
     "output_type": "stream",
     "text": [
      "C:\\Users\\siddh\\AppData\\Local\\Temp\\ipykernel_4540\\1070728503.py:2: DtypeWarning: Columns (5) have mixed types. Specify dtype option on import or set low_memory=False.\n",
      "  train_file = pd.read_csv(\"raw_dataset_1/train.csv\")\n"
     ]
    }
   ],
   "source": [
    "import pandas as pd\n",
    "train_file = pd.read_csv(\"raw_dataset_1/train.csv\")"
   ]
  },
  {
   "cell_type": "code",
   "execution_count": 6,
   "id": "644fcac3",
   "metadata": {},
   "outputs": [
    {
     "data": {
      "text/plain": [
       "(125497040, 6)"
      ]
     },
     "execution_count": 6,
     "metadata": {},
     "output_type": "execute_result"
    }
   ],
   "source": [
    "train_file.shape"
   ]
  },
  {
   "cell_type": "code",
   "execution_count": 19,
   "id": "b2e60174",
   "metadata": {},
   "outputs": [],
   "source": [
    "import pandas as pd\n",
    "\n",
    "#train_file = pd.read_csv(\"raw_dataset/train.csv\")\n",
    "\n",
    "test_file = pd.read_csv(\"raw_dataset_1/test.csv\")\n",
    "\n",
    "item_file = pd.read_csv(\"raw_dataset_1/items.csv\")\n",
    "\n",
    "store_file = pd.read_csv(\"raw_dataset_1/stores.csv\")\n",
    "\n",
    "transaction_file = pd.read_csv(\"raw_dataset_1/transactions.csv\")\n",
    "\n",
    "oil_file = pd.read_csv(\"raw_dataset_1/oil.csv\")\n",
    "\n",
    "sample_file = pd.read_csv(\"raw_dataset_1/sample_submission.csv\")"
   ]
  },
  {
   "cell_type": "code",
   "execution_count": 20,
   "id": "aa6f151d",
   "metadata": {},
   "outputs": [
    {
     "data": {
      "text/html": [
       "<div>\n",
       "<style scoped>\n",
       "    .dataframe tbody tr th:only-of-type {\n",
       "        vertical-align: middle;\n",
       "    }\n",
       "\n",
       "    .dataframe tbody tr th {\n",
       "        vertical-align: top;\n",
       "    }\n",
       "\n",
       "    .dataframe thead th {\n",
       "        text-align: right;\n",
       "    }\n",
       "</style>\n",
       "<table border=\"1\" class=\"dataframe\">\n",
       "  <thead>\n",
       "    <tr style=\"text-align: right;\">\n",
       "      <th></th>\n",
       "      <th>id</th>\n",
       "      <th>unit_sales</th>\n",
       "    </tr>\n",
       "  </thead>\n",
       "  <tbody>\n",
       "    <tr>\n",
       "      <th>0</th>\n",
       "      <td>125497040</td>\n",
       "      <td>0</td>\n",
       "    </tr>\n",
       "    <tr>\n",
       "      <th>1</th>\n",
       "      <td>125497041</td>\n",
       "      <td>0</td>\n",
       "    </tr>\n",
       "    <tr>\n",
       "      <th>2</th>\n",
       "      <td>125497042</td>\n",
       "      <td>0</td>\n",
       "    </tr>\n",
       "    <tr>\n",
       "      <th>3</th>\n",
       "      <td>125497043</td>\n",
       "      <td>0</td>\n",
       "    </tr>\n",
       "    <tr>\n",
       "      <th>4</th>\n",
       "      <td>125497044</td>\n",
       "      <td>0</td>\n",
       "    </tr>\n",
       "  </tbody>\n",
       "</table>\n",
       "</div>"
      ],
      "text/plain": [
       "          id  unit_sales\n",
       "0  125497040           0\n",
       "1  125497041           0\n",
       "2  125497042           0\n",
       "3  125497043           0\n",
       "4  125497044           0"
      ]
     },
     "execution_count": 20,
     "metadata": {},
     "output_type": "execute_result"
    }
   ],
   "source": [
    "# train_file.head()\n",
    "\n",
    "test_file.head()\n",
    "\n",
    "item_file.head()\n",
    "\n",
    "store_file.head()\n",
    "\n",
    "transaction_file.head()\n",
    "\n",
    "oil_file.head()\n",
    "\n",
    "sample_file.head()"
   ]
  },
  {
   "cell_type": "code",
   "execution_count": 21,
   "id": "68de2c78",
   "metadata": {},
   "outputs": [
    {
     "data": {
      "text/plain": [
       "(3370464, 2)"
      ]
     },
     "execution_count": 21,
     "metadata": {},
     "output_type": "execute_result"
    }
   ],
   "source": [
    "# To check the shape of data\n",
    "\n",
    "\n",
    "# train_file.shape\n",
    "\n",
    "test_file.shape\n",
    "\n",
    "item_file.shape\n",
    "\n",
    "store_file.shape\n",
    "\n",
    "transaction_file.shape\n",
    "\n",
    "oil_file.shape\n",
    "\n",
    "sample_file.shape"
   ]
  },
  {
   "cell_type": "code",
   "execution_count": 22,
   "id": "b78cd3a0",
   "metadata": {},
   "outputs": [],
   "source": [
    "# change the column name\n",
    "store_file = store_file.rename(columns={\"type\":\"store_grade\"})\n"
   ]
  },
  {
   "cell_type": "code",
   "execution_count": 23,
   "id": "67c7bd38",
   "metadata": {},
   "outputs": [
    {
     "data": {
      "text/plain": [
       "0          False\n",
       "1          False\n",
       "2          False\n",
       "3          False\n",
       "4          False\n",
       "           ...  \n",
       "3370459    False\n",
       "3370460    False\n",
       "3370461    False\n",
       "3370462    False\n",
       "3370463    False\n",
       "Length: 3370464, dtype: bool"
      ]
     },
     "execution_count": 23,
     "metadata": {},
     "output_type": "execute_result"
    }
   ],
   "source": [
    "# How to chech duplicate rows\n",
    "\n",
    "\n",
    "#train_file.duplicated().sum()\n",
    "\n",
    "test_file.duplicated().sum()\n",
    "\n",
    "test_file.duplicated()\n",
    "\n",
    "store_file.duplicated()\n",
    "\n",
    "transaction_file.duplicated()\n",
    "\n",
    "oil_file.duplicated()\n",
    "\n",
    "sample_file.duplicated()"
   ]
  },
  {
   "cell_type": "code",
   "execution_count": null,
   "id": "32c587f4",
   "metadata": {},
   "outputs": [
    {
     "data": {
      "text/html": [
       "<div>\n",
       "<style scoped>\n",
       "    .dataframe tbody tr th:only-of-type {\n",
       "        vertical-align: middle;\n",
       "    }\n",
       "\n",
       "    .dataframe tbody tr th {\n",
       "        vertical-align: top;\n",
       "    }\n",
       "\n",
       "    .dataframe thead th {\n",
       "        text-align: right;\n",
       "    }\n",
       "</style>\n",
       "<table border=\"1\" class=\"dataframe\">\n",
       "  <thead>\n",
       "    <tr style=\"text-align: right;\">\n",
       "      <th></th>\n",
       "      <th>id</th>\n",
       "      <th>unit_sales</th>\n",
       "    </tr>\n",
       "  </thead>\n",
       "  <tbody>\n",
       "    <tr>\n",
       "      <th>0</th>\n",
       "      <td>125497040</td>\n",
       "      <td>0</td>\n",
       "    </tr>\n",
       "    <tr>\n",
       "      <th>1</th>\n",
       "      <td>125497041</td>\n",
       "      <td>0</td>\n",
       "    </tr>\n",
       "    <tr>\n",
       "      <th>2</th>\n",
       "      <td>125497042</td>\n",
       "      <td>0</td>\n",
       "    </tr>\n",
       "    <tr>\n",
       "      <th>3</th>\n",
       "      <td>125497043</td>\n",
       "      <td>0</td>\n",
       "    </tr>\n",
       "    <tr>\n",
       "      <th>4</th>\n",
       "      <td>125497044</td>\n",
       "      <td>0</td>\n",
       "    </tr>\n",
       "    <tr>\n",
       "      <th>...</th>\n",
       "      <td>...</td>\n",
       "      <td>...</td>\n",
       "    </tr>\n",
       "    <tr>\n",
       "      <th>3370459</th>\n",
       "      <td>128867499</td>\n",
       "      <td>0</td>\n",
       "    </tr>\n",
       "    <tr>\n",
       "      <th>3370460</th>\n",
       "      <td>128867500</td>\n",
       "      <td>0</td>\n",
       "    </tr>\n",
       "    <tr>\n",
       "      <th>3370461</th>\n",
       "      <td>128867501</td>\n",
       "      <td>0</td>\n",
       "    </tr>\n",
       "    <tr>\n",
       "      <th>3370462</th>\n",
       "      <td>128867502</td>\n",
       "      <td>0</td>\n",
       "    </tr>\n",
       "    <tr>\n",
       "      <th>3370463</th>\n",
       "      <td>128867503</td>\n",
       "      <td>0</td>\n",
       "    </tr>\n",
       "  </tbody>\n",
       "</table>\n",
       "<p>3370464 rows × 2 columns</p>\n",
       "</div>"
      ],
      "text/plain": [
       "                id  unit_sales\n",
       "0        125497040           0\n",
       "1        125497041           0\n",
       "2        125497042           0\n",
       "3        125497043           0\n",
       "4        125497044           0\n",
       "...            ...         ...\n",
       "3370459  128867499           0\n",
       "3370460  128867500           0\n",
       "3370461  128867501           0\n",
       "3370462  128867502           0\n",
       "3370463  128867503           0\n",
       "\n",
       "[3370464 rows x 2 columns]"
      ]
     },
     "execution_count": 24,
     "metadata": {},
     "output_type": "execute_result"
    }
   ],
   "source": [
    "# How to remove all duplicate rows from the file\n",
    "\n",
    "\n",
    "\n",
    "# train_file.drop_duplicates()\n",
    "\n",
    "item_file.drop_duplicates()\n",
    "\n",
    "store_file.drop_duplicates()\n",
    "\n",
    "transaction_file.drop_duplicates()\n",
    "\n",
    "oil_file.drop_duplicates()\n",
    "\n",
    "sample_file.drop_duplicates()"
   ]
  },
  {
   "cell_type": "code",
   "execution_count": 25,
   "id": "e838fd00",
   "metadata": {},
   "outputs": [
    {
     "data": {
      "text/plain": [
       "Index(['id', 'unit_sales'], dtype='object')"
      ]
     },
     "execution_count": 25,
     "metadata": {},
     "output_type": "execute_result"
    }
   ],
   "source": [
    "# check all the columns name\n",
    "\n",
    "\n",
    "\n",
    "#train_file.columns\n",
    "\n",
    "test_file.columns\n",
    "\n",
    "item_file.columns\n",
    "\n",
    "store_file.columns\n",
    "\n",
    "transaction_file.columns\n",
    "\n",
    "oil_file.columns\n",
    "\n",
    "sample_file.columns"
   ]
  },
  {
   "cell_type": "code",
   "execution_count": 26,
   "id": "3f18b2f4",
   "metadata": {},
   "outputs": [
    {
     "data": {
      "text/plain": [
       "Index([], dtype='object')"
      ]
     },
     "execution_count": 26,
     "metadata": {},
     "output_type": "execute_result"
    }
   ],
   "source": [
    "# check duplicasy in columns\n",
    "\n",
    "\n",
    "\n",
    "\n",
    "#train_file.columns[train_file.columns.duplicated()]\n",
    "\n",
    "\n",
    "test_file.columns[test_file.columns.duplicated()]\n",
    "\n",
    "\n",
    "item_file.columns[item_file.columns.duplicated()]\n",
    "\n",
    "\n",
    "store_file.columns[store_file.columns.duplicated()]\n",
    "\n",
    "\n",
    "transaction_file.columns[transaction_file.columns.duplicated()]\n",
    "\n",
    "\n",
    "oil_file.columns[oil_file.columns.duplicated()]\n",
    "\n",
    "sample_file.columns[sample_file.columns.duplicated()]"
   ]
  },
  {
   "cell_type": "code",
   "execution_count": 27,
   "id": "c675f2b3",
   "metadata": {},
   "outputs": [
    {
     "data": {
      "text/plain": [
       "id            0\n",
       "unit_sales    0\n",
       "dtype: int64"
      ]
     },
     "execution_count": 27,
     "metadata": {},
     "output_type": "execute_result"
    }
   ],
   "source": [
    "# how to find missing values\n",
    "\n",
    "\n",
    "\n",
    "\n",
    "#train_file.isnull().sum()\n",
    "\n",
    "\n",
    "test_file.isnull().sum()\n",
    "\n",
    "\n",
    "item_file.isnull().sum()\n",
    "\n",
    "\n",
    "store_file.isnull().sum()\n",
    "\n",
    "\n",
    "transaction_file.isnull().sum()\n",
    "\n",
    "\n",
    "oil_file.isnull().sum()\n",
    "\n",
    "\n",
    "sample_file.isnull().sum()"
   ]
  },
  {
   "cell_type": "code",
   "execution_count": 28,
   "id": "13d628d8",
   "metadata": {},
   "outputs": [],
   "source": [
    "# fix missing values\n",
    "\n",
    "#train_file['onpromotion'] = train_file['onpromotion'].fillna(False)\n",
    "\n",
    "oil_file['dcoilwtico']=oil_file['dcoilwtico'].fillna(oil_file['dcoilwtico'].mean())\n"
   ]
  },
  {
   "cell_type": "code",
   "execution_count": 29,
   "id": "c8b138d7",
   "metadata": {},
   "outputs": [
    {
     "data": {
      "text/plain": [
       "date          0\n",
       "dcoilwtico    0\n",
       "dtype: int64"
      ]
     },
     "execution_count": 29,
     "metadata": {},
     "output_type": "execute_result"
    }
   ],
   "source": [
    "# cheking all missing valse are filled\n",
    "#train_file.isnull().sum()\n",
    "oil_file.isnull().sum()"
   ]
  },
  {
   "cell_type": "code",
   "execution_count": null,
   "id": "67dc30c5",
   "metadata": {},
   "outputs": [
    {
     "data": {
      "text/html": [
       "<div>\n",
       "<style scoped>\n",
       "    .dataframe tbody tr th:only-of-type {\n",
       "        vertical-align: middle;\n",
       "    }\n",
       "\n",
       "    .dataframe tbody tr th {\n",
       "        vertical-align: top;\n",
       "    }\n",
       "\n",
       "    .dataframe thead th {\n",
       "        text-align: right;\n",
       "    }\n",
       "</style>\n",
       "<table border=\"1\" class=\"dataframe\">\n",
       "  <thead>\n",
       "    <tr style=\"text-align: right;\">\n",
       "      <th></th>\n",
       "      <th>id</th>\n",
       "      <th>unit_sales</th>\n",
       "    </tr>\n",
       "  </thead>\n",
       "  <tbody>\n",
       "  </tbody>\n",
       "</table>\n",
       "</div>"
      ],
      "text/plain": [
       "Empty DataFrame\n",
       "Columns: [id, unit_sales]\n",
       "Index: []"
      ]
     },
     "execution_count": 30,
     "metadata": {},
     "output_type": "execute_result"
    }
   ],
   "source": [
    "# Check is there any value in a row which is empty\n",
    "\n",
    "\n",
    "\n",
    "\n",
    "#train_file[train_file.isnull().any(axis=1)]\n",
    "#any(axis=1) → Means “at least one missing value in the row”\n",
    "\n",
    "\n",
    "test_file[test_file.isnull().any(axis=1)]\n",
    "\n",
    "\n",
    "item_file[item_file.isnull().any(axis=1)]\n",
    "\n",
    "\n",
    "store_file[store_file.isnull().any(axis=1)]\n",
    "\n",
    "\n",
    "transaction_file[transaction_file.isnull().any(axis=1)]\n",
    "\n",
    "\n",
    "oil_file[oil_file.isnull().any(axis=1)]\n",
    "\n",
    "\n",
    "sample_file[sample_file.isnull().any(axis=1)]\n"
   ]
  },
  {
   "cell_type": "code",
   "execution_count": 31,
   "id": "bb344f49",
   "metadata": {},
   "outputs": [
    {
     "data": {
      "text/plain": [
       "0      2013-01-01\n",
       "1      2013-01-02\n",
       "2      2013-01-03\n",
       "3      2013-01-04\n",
       "4      2013-01-07\n",
       "          ...    \n",
       "1213   2017-08-25\n",
       "1214   2017-08-28\n",
       "1215   2017-08-29\n",
       "1216   2017-08-30\n",
       "1217   2017-08-31\n",
       "Name: date, Length: 1218, dtype: datetime64[ns]"
      ]
     },
     "execution_count": 31,
     "metadata": {},
     "output_type": "execute_result"
    }
   ],
   "source": [
    "# it used to check for invalid dates\n",
    "\n",
    "\n",
    "\n",
    "\n",
    "#pd.to_datetime(train_file['date'],errors='coerce')\n",
    "\n",
    "\n",
    "pd.to_datetime(test_file['date'], errors='coerce')\n",
    "\n",
    "\n",
    "pd.to_datetime(transaction_file['date'], errors='coerce')\n",
    "\n",
    "\n",
    "pd.to_datetime(oil_file['date'], errors='coerce')\n"
   ]
  },
  {
   "cell_type": "code",
   "execution_count": 32,
   "id": "734df4b4",
   "metadata": {},
   "outputs": [
    {
     "data": {
      "text/plain": [
       "store_nbr       int64\n",
       "city           object\n",
       "state          object\n",
       "store_grade    object\n",
       "cluster         int64\n",
       "dtype: object"
      ]
     },
     "execution_count": 32,
     "metadata": {},
     "output_type": "execute_result"
    }
   ],
   "source": [
    "store_file.dtypes"
   ]
  },
  {
   "cell_type": "code",
   "execution_count": 33,
   "id": "923bd69c",
   "metadata": {},
   "outputs": [
    {
     "data": {
      "text/html": [
       "<div>\n",
       "<style scoped>\n",
       "    .dataframe tbody tr th:only-of-type {\n",
       "        vertical-align: middle;\n",
       "    }\n",
       "\n",
       "    .dataframe tbody tr th {\n",
       "        vertical-align: top;\n",
       "    }\n",
       "\n",
       "    .dataframe thead th {\n",
       "        text-align: right;\n",
       "    }\n",
       "</style>\n",
       "<table border=\"1\" class=\"dataframe\">\n",
       "  <thead>\n",
       "    <tr style=\"text-align: right;\">\n",
       "      <th></th>\n",
       "      <th>id</th>\n",
       "      <th>unit_sales</th>\n",
       "    </tr>\n",
       "  </thead>\n",
       "  <tbody>\n",
       "  </tbody>\n",
       "</table>\n",
       "</div>"
      ],
      "text/plain": [
       "Empty DataFrame\n",
       "Columns: [id, unit_sales]\n",
       "Index: []"
      ]
     },
     "execution_count": 33,
     "metadata": {},
     "output_type": "execute_result"
    }
   ],
   "source": [
    "# shows e\n",
    "\n",
    "\n",
    "\n",
    "\n",
    "\n",
    "#train_file[train_file['date'].isna()]\n",
    "\n",
    "\n",
    "\n",
    "test_file[test_file['date'].isna()]\n",
    "#test_file\t           This is your DataFrame (like a big table full of data).\n",
    "#test_file['date']\t   This picks just the 'date' column from the table.\n",
    "#.isna()\t           This checks each row of the column to see if the value is missing/empty. It returns True for missing, False for normal.\n",
    "#test_file[ ... ]\t   This filters and shows only those rows where the inside condition is True. So only rows where 'date' is missing.\n",
    "\n",
    "\n",
    "\n",
    "item_file[item_file['perishable'].isna()]\n",
    "\n",
    "\n",
    "\n",
    "store_file[store_file['city'].isna()]\n",
    "store_file[store_file['store_grade'].isna()]\n",
    "store_file[store_file['state'].isna()]\n",
    "\n",
    "\n",
    "transaction_file[transaction_file['date'].isna()]\n",
    "transaction_file[transaction_file['store_nbr'].isna()]\n",
    "transaction_file[transaction_file['transactions'].isna()]\n",
    "\n",
    "\n",
    "\n",
    "oil_file[oil_file['date'].isna()]\n",
    "\n",
    "\n",
    "\n",
    "sample_file[sample_file['id'].isna()]\n",
    "sample_file[sample_file['unit_sales'].isna()]\n"
   ]
  },
  {
   "cell_type": "code",
   "execution_count": 34,
   "id": "e73a0555",
   "metadata": {},
   "outputs": [
    {
     "data": {
      "text/html": [
       "<div>\n",
       "<style scoped>\n",
       "    .dataframe tbody tr th:only-of-type {\n",
       "        vertical-align: middle;\n",
       "    }\n",
       "\n",
       "    .dataframe tbody tr th {\n",
       "        vertical-align: top;\n",
       "    }\n",
       "\n",
       "    .dataframe thead th {\n",
       "        text-align: right;\n",
       "    }\n",
       "</style>\n",
       "<table border=\"1\" class=\"dataframe\">\n",
       "  <thead>\n",
       "    <tr style=\"text-align: right;\">\n",
       "      <th></th>\n",
       "      <th>id</th>\n",
       "      <th>unit_sales</th>\n",
       "    </tr>\n",
       "  </thead>\n",
       "  <tbody>\n",
       "  </tbody>\n",
       "</table>\n",
       "</div>"
      ],
      "text/plain": [
       "Empty DataFrame\n",
       "Columns: [id, unit_sales]\n",
       "Index: []"
      ]
     },
     "execution_count": 34,
     "metadata": {},
     "output_type": "execute_result"
    }
   ],
   "source": [
    "#check is there any invalid value in the column\n",
    "\n",
    "\n",
    "\n",
    "\n",
    "\n",
    "#train_file[train_file['unit_sales']<0]\n",
    "\n",
    "\n",
    "test_file[test_file['store_nbr']<0]\n",
    "test_file[test_file['item_nbr']<0]\n",
    "test_file[test_file['id']<0]\n",
    "\n",
    "\n",
    "item_file[item_file['item_nbr']<0]\n",
    "item_file[item_file['class']<0]\n",
    "item_file[item_file['perishable']<0]\n",
    "\n",
    "\n",
    "store_file[store_file['store_nbr']<0]\n",
    "store_file[store_file['cluster']<0]\n",
    "\n",
    "\n",
    "transaction_file[transaction_file['store_nbr']<0]\n",
    "transaction_file[transaction_file['transactions']<0]\n",
    "\n",
    "\n",
    "oil_file[oil_file['dcoilwtico']<0]\n",
    "\n",
    "\n",
    "sample_file[sample_file['id']<0]\n",
    "sample_file[sample_file['unit_sales']<0]"
   ]
  },
  {
   "cell_type": "code",
   "execution_count": 35,
   "id": "eb4c1c12",
   "metadata": {},
   "outputs": [],
   "source": [
    "# Fix the values (if you know what they should be)\n",
    "\n",
    "\n",
    "\n",
    "\n",
    "\n",
    "\n",
    "\n",
    "\n",
    "# train_file.loc[train_file['unit_sales']< 0, 'unit_sales']=0\n",
    "\n",
    "\n"
   ]
  },
  {
   "cell_type": "code",
   "execution_count": 36,
   "id": "d5b0b9be",
   "metadata": {},
   "outputs": [],
   "source": [
    "# re-check unit_sale coluumn to see are there and value invalid\n",
    "\n",
    "\n",
    "\n",
    "\n",
    "\n",
    "\n",
    "\n",
    "\n",
    "\n",
    "\n",
    "# train_file[train_file['unit_sales']<0]\n",
    "\n",
    "\n"
   ]
  },
  {
   "cell_type": "code",
   "execution_count": 37,
   "id": "f258e519",
   "metadata": {},
   "outputs": [],
   "source": [
    "# Chesk for other columns for invalid data\n",
    "\n",
    "\n",
    "\n",
    "\n",
    "\n",
    "\n",
    "\n",
    "\n",
    "\n",
    "# train_file[train_file['item_nbr']<0]\n",
    "# train_file[train_file['store_nbr']<0]\n",
    "\n",
    "\n"
   ]
  },
  {
   "cell_type": "code",
   "execution_count": 38,
   "id": "9b594117",
   "metadata": {},
   "outputs": [
    {
     "data": {
      "text/plain": [
       "id            int64\n",
       "unit_sales    int64\n",
       "dtype: object"
      ]
     },
     "execution_count": 38,
     "metadata": {},
     "output_type": "execute_result"
    }
   ],
   "source": [
    "# Standardize Text Columns\n",
    "\n",
    "\n",
    "\n",
    "\n",
    "\n",
    "\n",
    "# train_file.dtypes\n",
    "\n",
    "test_file.dtypes\n",
    "\n",
    "item_file.dtypes\n",
    "\n",
    "store_file.dtypes\n",
    "\n",
    "transaction_file.dtypes\n",
    "\n",
    "oil_file.dtypes\n",
    "\n",
    "sample_file.dtypes"
   ]
  },
  {
   "cell_type": "code",
   "execution_count": 39,
   "id": "74a9b625",
   "metadata": {},
   "outputs": [],
   "source": [
    "# this remove extra spaces from the object and string data\n",
    "\n",
    "\n",
    "\n",
    "# train_file['date'] = train_file['date'].str.strip()         # other than date all data_type is float, int and bool\n",
    "\n",
    "\n",
    "test_file['date']=test_file['date'].str.strip()\n",
    "\n",
    "\n",
    "store_file['city']=store_file['city'].str.strip()\n",
    "store_file['store_grade']=store_file['store_grade'].str.strip()\n",
    "store_file['state']=store_file['state'].str.strip()\n",
    "\n",
    "transaction_file['date'] = transaction_file['date'].str.strip()\n",
    "\n",
    "\n",
    "oil_file['date'] = oil_file['date'].str.strip()\n"
   ]
  },
  {
   "cell_type": "code",
   "execution_count": 40,
   "id": "a34a2440",
   "metadata": {},
   "outputs": [
    {
     "name": "stdout",
     "output_type": "stream",
     "text": [
      "<class 'pandas.core.frame.DataFrame'>\n",
      "RangeIndex: 3370464 entries, 0 to 3370463\n",
      "Data columns (total 5 columns):\n",
      " #   Column       Dtype \n",
      "---  ------       ----- \n",
      " 0   id           int64 \n",
      " 1   date         object\n",
      " 2   store_nbr    int64 \n",
      " 3   item_nbr     int64 \n",
      " 4   onpromotion  bool  \n",
      "dtypes: bool(1), int64(3), object(1)\n",
      "memory usage: 106.1+ MB\n",
      "<class 'pandas.core.frame.DataFrame'>\n",
      "RangeIndex: 4100 entries, 0 to 4099\n",
      "Data columns (total 4 columns):\n",
      " #   Column      Non-Null Count  Dtype \n",
      "---  ------      --------------  ----- \n",
      " 0   item_nbr    4100 non-null   int64 \n",
      " 1   family      4100 non-null   object\n",
      " 2   class       4100 non-null   int64 \n",
      " 3   perishable  4100 non-null   int64 \n",
      "dtypes: int64(3), object(1)\n",
      "memory usage: 128.3+ KB\n",
      "<class 'pandas.core.frame.DataFrame'>\n",
      "RangeIndex: 54 entries, 0 to 53\n",
      "Data columns (total 5 columns):\n",
      " #   Column       Non-Null Count  Dtype \n",
      "---  ------       --------------  ----- \n",
      " 0   store_nbr    54 non-null     int64 \n",
      " 1   city         54 non-null     object\n",
      " 2   state        54 non-null     object\n",
      " 3   store_grade  54 non-null     object\n",
      " 4   cluster      54 non-null     int64 \n",
      "dtypes: int64(2), object(3)\n",
      "memory usage: 2.2+ KB\n",
      "<class 'pandas.core.frame.DataFrame'>\n",
      "RangeIndex: 83488 entries, 0 to 83487\n",
      "Data columns (total 3 columns):\n",
      " #   Column        Non-Null Count  Dtype \n",
      "---  ------        --------------  ----- \n",
      " 0   date          83488 non-null  object\n",
      " 1   store_nbr     83488 non-null  int64 \n",
      " 2   transactions  83488 non-null  int64 \n",
      "dtypes: int64(2), object(1)\n",
      "memory usage: 1.9+ MB\n",
      "<class 'pandas.core.frame.DataFrame'>\n",
      "RangeIndex: 1218 entries, 0 to 1217\n",
      "Data columns (total 2 columns):\n",
      " #   Column      Non-Null Count  Dtype  \n",
      "---  ------      --------------  -----  \n",
      " 0   date        1218 non-null   object \n",
      " 1   dcoilwtico  1218 non-null   float64\n",
      "dtypes: float64(1), object(1)\n",
      "memory usage: 19.2+ KB\n",
      "<class 'pandas.core.frame.DataFrame'>\n",
      "RangeIndex: 3370464 entries, 0 to 3370463\n",
      "Data columns (total 2 columns):\n",
      " #   Column      Dtype\n",
      "---  ------      -----\n",
      " 0   id          int64\n",
      " 1   unit_sales  int64\n",
      "dtypes: int64(2)\n",
      "memory usage: 51.4 MB\n"
     ]
    }
   ],
   "source": [
    "# final check\n",
    "\n",
    "\n",
    "\n",
    "\n",
    "#train_file.info()\n",
    "\n",
    "test_file.info()\n",
    "\n",
    "item_file.info()\n",
    "\n",
    "store_file.info()\n",
    "\n",
    "transaction_file.info()\n",
    "\n",
    "oil_file.info()\n",
    "\n",
    "sample_file.info()"
   ]
  },
  {
   "cell_type": "code",
   "execution_count": 41,
   "id": "2d1547d8",
   "metadata": {},
   "outputs": [
    {
     "data": {
      "text/html": [
       "<div>\n",
       "<style scoped>\n",
       "    .dataframe tbody tr th:only-of-type {\n",
       "        vertical-align: middle;\n",
       "    }\n",
       "\n",
       "    .dataframe tbody tr th {\n",
       "        vertical-align: top;\n",
       "    }\n",
       "\n",
       "    .dataframe thead th {\n",
       "        text-align: right;\n",
       "    }\n",
       "</style>\n",
       "<table border=\"1\" class=\"dataframe\">\n",
       "  <thead>\n",
       "    <tr style=\"text-align: right;\">\n",
       "      <th></th>\n",
       "      <th>id</th>\n",
       "      <th>unit_sales</th>\n",
       "    </tr>\n",
       "  </thead>\n",
       "  <tbody>\n",
       "    <tr>\n",
       "      <th>0</th>\n",
       "      <td>125497040</td>\n",
       "      <td>0</td>\n",
       "    </tr>\n",
       "    <tr>\n",
       "      <th>1</th>\n",
       "      <td>125497041</td>\n",
       "      <td>0</td>\n",
       "    </tr>\n",
       "    <tr>\n",
       "      <th>2</th>\n",
       "      <td>125497042</td>\n",
       "      <td>0</td>\n",
       "    </tr>\n",
       "    <tr>\n",
       "      <th>3</th>\n",
       "      <td>125497043</td>\n",
       "      <td>0</td>\n",
       "    </tr>\n",
       "    <tr>\n",
       "      <th>4</th>\n",
       "      <td>125497044</td>\n",
       "      <td>0</td>\n",
       "    </tr>\n",
       "  </tbody>\n",
       "</table>\n",
       "</div>"
      ],
      "text/plain": [
       "          id  unit_sales\n",
       "0  125497040           0\n",
       "1  125497041           0\n",
       "2  125497042           0\n",
       "3  125497043           0\n",
       "4  125497044           0"
      ]
     },
     "execution_count": 41,
     "metadata": {},
     "output_type": "execute_result"
    }
   ],
   "source": [
    "#train_file.head()\n",
    "\n",
    "test_file.head()\n",
    "\n",
    "item_file.head()\n",
    "\n",
    "store_file.head()\n",
    "\n",
    "transaction_file.head()\n",
    "\n",
    "oil_file.head()\n",
    "\n",
    "sample_file.head()"
   ]
  },
  {
   "cell_type": "code",
   "execution_count": 42,
   "id": "87c6e121",
   "metadata": {},
   "outputs": [
    {
     "data": {
      "text/plain": [
       "(3370464, 2)"
      ]
     },
     "execution_count": 42,
     "metadata": {},
     "output_type": "execute_result"
    }
   ],
   "source": [
    "#train_file.shape\n",
    "\n",
    "test_file.shape\n",
    "\n",
    "item_file.shape\n",
    "\n",
    "store_file.shape\n",
    "\n",
    "transaction_file.shape\n",
    "\n",
    "oil_file.shape\n",
    "\n",
    "sample_file.shape"
   ]
  },
  {
   "cell_type": "code",
   "execution_count": 43,
   "id": "3a45b9ce",
   "metadata": {},
   "outputs": [
    {
     "data": {
      "text/html": [
       "<div>\n",
       "<style scoped>\n",
       "    .dataframe tbody tr th:only-of-type {\n",
       "        vertical-align: middle;\n",
       "    }\n",
       "\n",
       "    .dataframe tbody tr th {\n",
       "        vertical-align: top;\n",
       "    }\n",
       "\n",
       "    .dataframe thead th {\n",
       "        text-align: right;\n",
       "    }\n",
       "</style>\n",
       "<table border=\"1\" class=\"dataframe\">\n",
       "  <thead>\n",
       "    <tr style=\"text-align: right;\">\n",
       "      <th></th>\n",
       "      <th>id</th>\n",
       "      <th>unit_sales</th>\n",
       "    </tr>\n",
       "  </thead>\n",
       "  <tbody>\n",
       "    <tr>\n",
       "      <th>count</th>\n",
       "      <td>3.370464e+06</td>\n",
       "      <td>3370464.0</td>\n",
       "    </tr>\n",
       "    <tr>\n",
       "      <th>mean</th>\n",
       "      <td>1.271823e+08</td>\n",
       "      <td>0.0</td>\n",
       "    </tr>\n",
       "    <tr>\n",
       "      <th>std</th>\n",
       "      <td>9.729693e+05</td>\n",
       "      <td>0.0</td>\n",
       "    </tr>\n",
       "    <tr>\n",
       "      <th>min</th>\n",
       "      <td>1.254970e+08</td>\n",
       "      <td>0.0</td>\n",
       "    </tr>\n",
       "    <tr>\n",
       "      <th>25%</th>\n",
       "      <td>1.263397e+08</td>\n",
       "      <td>0.0</td>\n",
       "    </tr>\n",
       "    <tr>\n",
       "      <th>50%</th>\n",
       "      <td>1.271823e+08</td>\n",
       "      <td>0.0</td>\n",
       "    </tr>\n",
       "    <tr>\n",
       "      <th>75%</th>\n",
       "      <td>1.280249e+08</td>\n",
       "      <td>0.0</td>\n",
       "    </tr>\n",
       "    <tr>\n",
       "      <th>max</th>\n",
       "      <td>1.288675e+08</td>\n",
       "      <td>0.0</td>\n",
       "    </tr>\n",
       "  </tbody>\n",
       "</table>\n",
       "</div>"
      ],
      "text/plain": [
       "                 id  unit_sales\n",
       "count  3.370464e+06   3370464.0\n",
       "mean   1.271823e+08         0.0\n",
       "std    9.729693e+05         0.0\n",
       "min    1.254970e+08         0.0\n",
       "25%    1.263397e+08         0.0\n",
       "50%    1.271823e+08         0.0\n",
       "75%    1.280249e+08         0.0\n",
       "max    1.288675e+08         0.0"
      ]
     },
     "execution_count": 43,
     "metadata": {},
     "output_type": "execute_result"
    }
   ],
   "source": [
    "\n",
    "#train_file.describe()\n",
    "\n",
    "test_file.describe()\n",
    "\n",
    "item_file.describe()\n",
    "\n",
    "store_file.describe()\n",
    "\n",
    "transaction_file.describe()\n",
    "\n",
    "oil_file.describe()\n",
    "\n",
    "sample_file.describe()"
   ]
  },
  {
   "cell_type": "code",
   "execution_count": 44,
   "id": "1e7deb5c",
   "metadata": {},
   "outputs": [],
   "source": [
    "# save to clean data in another file\n",
    "\n",
    "\n",
    "\n",
    "#train_file.to_csv(\"cleaned_raw_dataset/upgraded_train.csv\", index = False)\n",
    "\n",
    "test_file.to_csv(\"cleaned_raw_dataset_2/clean_test_dataset.csv\", index = False)\n",
    "\n",
    "item_file.to_csv('cleaned_raw_dataset_2/clean_item_dataset.csv', index = False)\n",
    "\n",
    "store_file.to_csv(\"cleaned_raw_dataset_2/clean_store_dataset.csv\", index=False)\n",
    "\n",
    "transaction_file.to_csv(\"cleaned_raw_dataset_2/clean_transaction_dataset.csv\", index=False)\n",
    "\n",
    "oil_file.to_csv(\"cleaned_raw_dataset_2/clean_oil_dataset.csv\", index=False)\n",
    "\n",
    "sample_file.to_csv(\"cleaned_raw_dataset_2/clean_sample_dataset.csv\", index=False)"
   ]
  },
  {
   "cell_type": "markdown",
   "id": "e30f1e50",
   "metadata": {},
   "source": [
    "### End"
   ]
  },
  {
   "cell_type": "markdown",
   "id": "1f3866d2",
   "metadata": {},
   "source": [
    "## Test file"
   ]
  }
 ],
 "metadata": {
  "kernelspec": {
   "display_name": "Python 3",
   "language": "python",
   "name": "python3"
  },
  "language_info": {
   "codemirror_mode": {
    "name": "ipython",
    "version": 3
   },
   "file_extension": ".py",
   "mimetype": "text/x-python",
   "name": "python",
   "nbconvert_exporter": "python",
   "pygments_lexer": "ipython3",
   "version": "3.12.9"
  }
 },
 "nbformat": 4,
 "nbformat_minor": 5
}
