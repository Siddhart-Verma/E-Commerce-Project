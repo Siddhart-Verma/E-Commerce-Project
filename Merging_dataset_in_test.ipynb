{
 "cells": [
  {
   "cell_type": "code",
   "execution_count": 1,
   "id": "af2078c5",
   "metadata": {},
   "outputs": [],
   "source": [
    "import pandas as pd\n",
    "\n",
    "# 1) Load your cleaned files\n",
    "\n",
    "test = pd.read_csv(\"cleaned_raw_dataset_2/clean_test_dataset.csv\")\n",
    "train = pd.read_csv(\"cleaned_raw_dataset_2/updated_train.csv\")"
   ]
  },
  {
   "cell_type": "markdown",
   "id": "7808786e",
   "metadata": {},
   "source": [
    "### Merging too dataset test and holidays_event on \"date\""
   ]
  },
  {
   "cell_type": "code",
   "execution_count": 2,
   "id": "11a459ee",
   "metadata": {},
   "outputs": [],
   "source": [
    "holiday = pd.read_csv(\"cleaned_raw_dataset_2/clean_holiday_event_dataset.csv\")"
   ]
  },
  {
   "cell_type": "code",
   "execution_count": 3,
   "id": "ca460c26",
   "metadata": {},
   "outputs": [
    {
     "name": "stdout",
     "output_type": "stream",
     "text": [
      "object\n",
      "object\n"
     ]
    }
   ],
   "source": [
    "print(test['date'].dtype)\n",
    "print(holiday['date'].dtype)\n"
   ]
  },
  {
   "cell_type": "code",
   "execution_count": 4,
   "id": "6fe51b7f",
   "metadata": {},
   "outputs": [],
   "source": [
    "test['date'] = pd.to_datetime(test['date'])\n",
    "holiday['date'] = pd.to_datetime(holiday['date'])"
   ]
  },
  {
   "cell_type": "code",
   "execution_count": 5,
   "id": "3206c512",
   "metadata": {},
   "outputs": [
    {
     "name": "stdout",
     "output_type": "stream",
     "text": [
      "Matching dates: 1\n"
     ]
    }
   ],
   "source": [
    "common_dates = set(test['date']).intersection(set(holiday['date']))\n",
    "print(\"Matching dates:\", len(common_dates))\n"
   ]
  },
  {
   "cell_type": "code",
   "execution_count": 6,
   "id": "b3ca1893",
   "metadata": {},
   "outputs": [],
   "source": [
    "#test = pd.merge(test,holiday,on=\"date\",how=\"left\")\n"
   ]
  },
  {
   "cell_type": "markdown",
   "id": "4e5a78a2",
   "metadata": {},
   "source": [
    "### Merging too dataset train and item on \"item_nbr\""
   ]
  },
  {
   "cell_type": "code",
   "execution_count": 7,
   "id": "21fbc5a9",
   "metadata": {},
   "outputs": [],
   "source": [
    "item = pd.read_csv(\"cleaned_raw_dataset_2/clean_item_dataset.csv\")"
   ]
  },
  {
   "cell_type": "code",
   "execution_count": 8,
   "id": "b723d7f5",
   "metadata": {},
   "outputs": [],
   "source": [
    "test=pd.merge(test,item,on=\"item_nbr\",how=\"left\")"
   ]
  },
  {
   "cell_type": "markdown",
   "id": "118b90da",
   "metadata": {},
   "source": [
    "### Merging too dataset train and oil on \"date\""
   ]
  },
  {
   "cell_type": "code",
   "execution_count": 9,
   "id": "61194eba",
   "metadata": {},
   "outputs": [],
   "source": [
    "oil = pd.read_csv(\"cleaned_raw_dataset_2/clean_oil_dataset.csv\")"
   ]
  },
  {
   "cell_type": "code",
   "execution_count": 10,
   "id": "23aa228b",
   "metadata": {},
   "outputs": [],
   "source": [
    "test['date'] = pd.to_datetime(test['date'])\n",
    "oil['date'] = pd.to_datetime(oil['date'])  # Optional, in case it isn't already\n"
   ]
  },
  {
   "cell_type": "code",
   "execution_count": 11,
   "id": "29239fa0",
   "metadata": {},
   "outputs": [],
   "source": [
    "test=pd.merge(test,oil,on=\"date\",how=\"left\")"
   ]
  },
  {
   "cell_type": "markdown",
   "id": "1dafb454",
   "metadata": {},
   "source": [
    "### Merging too dataset train and store on \"store_nbr\""
   ]
  },
  {
   "cell_type": "code",
   "execution_count": 12,
   "id": "bace42da",
   "metadata": {},
   "outputs": [],
   "source": [
    "store = pd.read_csv(\"cleaned_raw_dataset_2/clean_store_dataset.csv\")"
   ]
  },
  {
   "cell_type": "code",
   "execution_count": 13,
   "id": "68bf6128",
   "metadata": {},
   "outputs": [],
   "source": [
    "test=pd.merge(test,store,on=\"store_nbr\",how=\"left\")"
   ]
  },
  {
   "cell_type": "markdown",
   "id": "47570b8d",
   "metadata": {},
   "source": [
    "### Merging too dataset train and transaction on \"store_nbr, date\""
   ]
  },
  {
   "cell_type": "code",
   "execution_count": 14,
   "id": "5303cf11",
   "metadata": {},
   "outputs": [],
   "source": [
    "trans = pd.read_csv(\"cleaned_raw_dataset_2/clean_transaction_dataset.csv\")"
   ]
  },
  {
   "cell_type": "code",
   "execution_count": 15,
   "id": "e60ac3d1",
   "metadata": {},
   "outputs": [],
   "source": [
    "trans['date'] = pd.to_datetime(trans['date'])"
   ]
  },
  {
   "cell_type": "code",
   "execution_count": 16,
   "id": "9a09bf4b",
   "metadata": {},
   "outputs": [],
   "source": [
    "test=pd.merge(test,trans,on=[\"store_nbr\",\"date\"],how=\"left\")"
   ]
  },
  {
   "cell_type": "markdown",
   "id": "1492d0e9",
   "metadata": {},
   "source": [
    "## Save the file\n"
   ]
  },
  {
   "cell_type": "code",
   "execution_count": 17,
   "id": "cd7f161f",
   "metadata": {},
   "outputs": [],
   "source": [
    "test.to_csv(\"merged_dataset/merged_dataset_in_test.csv\",index=False)"
   ]
  },
  {
   "cell_type": "code",
   "execution_count": 18,
   "id": "83ceb415",
   "metadata": {},
   "outputs": [
    {
     "data": {
      "text/plain": [
       "id                       int64\n",
       "date            datetime64[ns]\n",
       "store_nbr                int64\n",
       "item_nbr                 int64\n",
       "onpromotion               bool\n",
       "family                  object\n",
       "class                    int64\n",
       "perishable               int64\n",
       "dcoilwtico             float64\n",
       "city                    object\n",
       "state                   object\n",
       "store_grade             object\n",
       "cluster                  int64\n",
       "transactions           float64\n",
       "dtype: object"
      ]
     },
     "execution_count": 18,
     "metadata": {},
     "output_type": "execute_result"
    }
   ],
   "source": [
    "test.dtypes"
   ]
  }
 ],
 "metadata": {
  "kernelspec": {
   "display_name": "Python 3",
   "language": "python",
   "name": "python3"
  },
  "language_info": {
   "codemirror_mode": {
    "name": "ipython",
    "version": 3
   },
   "file_extension": ".py",
   "mimetype": "text/x-python",
   "name": "python",
   "nbconvert_exporter": "python",
   "pygments_lexer": "ipython3",
   "version": "3.12.9"
  }
 },
 "nbformat": 4,
 "nbformat_minor": 5
}
