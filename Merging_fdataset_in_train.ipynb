{
 "cells": [
  {
   "cell_type": "code",
   "execution_count": 1,
   "id": "d2826460",
   "metadata": {},
   "outputs": [],
   "source": [
    "import pandas as pd\n",
    "\n",
    "train = pd.read_csv(\"cleaned_raw_dataset_2/updated_train.csv\")"
   ]
  },
  {
   "cell_type": "markdown",
   "id": "8f7cb9ed",
   "metadata": {},
   "source": [
    "### Merging too dataset train and holidays_event on \"date\""
   ]
  },
  {
   "cell_type": "code",
   "execution_count": 2,
   "id": "4aa3f95b",
   "metadata": {},
   "outputs": [],
   "source": [
    "holiday = pd.read_csv(\"cleaned_raw_dataset_2/clean_holiday_event_dataset.csv\")"
   ]
  },
  {
   "cell_type": "code",
   "execution_count": 3,
   "id": "a8354c9f",
   "metadata": {},
   "outputs": [
    {
     "data": {
      "text/html": [
       "<div>\n",
       "<style scoped>\n",
       "    .dataframe tbody tr th:only-of-type {\n",
       "        vertical-align: middle;\n",
       "    }\n",
       "\n",
       "    .dataframe tbody tr th {\n",
       "        vertical-align: top;\n",
       "    }\n",
       "\n",
       "    .dataframe thead th {\n",
       "        text-align: right;\n",
       "    }\n",
       "</style>\n",
       "<table border=\"1\" class=\"dataframe\">\n",
       "  <thead>\n",
       "    <tr style=\"text-align: right;\">\n",
       "      <th></th>\n",
       "      <th>date</th>\n",
       "      <th>Day_type</th>\n",
       "      <th>locale</th>\n",
       "      <th>locale_name</th>\n",
       "      <th>description</th>\n",
       "      <th>transferred</th>\n",
       "    </tr>\n",
       "  </thead>\n",
       "  <tbody>\n",
       "    <tr>\n",
       "      <th>0</th>\n",
       "      <td>2012-03-02</td>\n",
       "      <td>Holiday</td>\n",
       "      <td>Local</td>\n",
       "      <td>Manta</td>\n",
       "      <td>Fundacion de Manta</td>\n",
       "      <td>False</td>\n",
       "    </tr>\n",
       "    <tr>\n",
       "      <th>1</th>\n",
       "      <td>2012-04-01</td>\n",
       "      <td>Holiday</td>\n",
       "      <td>Regional</td>\n",
       "      <td>Cotopaxi</td>\n",
       "      <td>Provincializacion de Cotopaxi</td>\n",
       "      <td>False</td>\n",
       "    </tr>\n",
       "    <tr>\n",
       "      <th>2</th>\n",
       "      <td>2012-04-12</td>\n",
       "      <td>Holiday</td>\n",
       "      <td>Local</td>\n",
       "      <td>Cuenca</td>\n",
       "      <td>Fundacion de Cuenca</td>\n",
       "      <td>False</td>\n",
       "    </tr>\n",
       "    <tr>\n",
       "      <th>3</th>\n",
       "      <td>2012-04-14</td>\n",
       "      <td>Holiday</td>\n",
       "      <td>Local</td>\n",
       "      <td>Libertad</td>\n",
       "      <td>Cantonizacion de Libertad</td>\n",
       "      <td>False</td>\n",
       "    </tr>\n",
       "    <tr>\n",
       "      <th>4</th>\n",
       "      <td>2012-04-21</td>\n",
       "      <td>Holiday</td>\n",
       "      <td>Local</td>\n",
       "      <td>Riobamba</td>\n",
       "      <td>Cantonizacion de Riobamba</td>\n",
       "      <td>False</td>\n",
       "    </tr>\n",
       "  </tbody>\n",
       "</table>\n",
       "</div>"
      ],
      "text/plain": [
       "         date Day_type    locale locale_name                    description  \\\n",
       "0  2012-03-02  Holiday     Local       Manta             Fundacion de Manta   \n",
       "1  2012-04-01  Holiday  Regional    Cotopaxi  Provincializacion de Cotopaxi   \n",
       "2  2012-04-12  Holiday     Local      Cuenca            Fundacion de Cuenca   \n",
       "3  2012-04-14  Holiday     Local    Libertad      Cantonizacion de Libertad   \n",
       "4  2012-04-21  Holiday     Local    Riobamba      Cantonizacion de Riobamba   \n",
       "\n",
       "   transferred  \n",
       "0        False  \n",
       "1        False  \n",
       "2        False  \n",
       "3        False  \n",
       "4        False  "
      ]
     },
     "execution_count": 3,
     "metadata": {},
     "output_type": "execute_result"
    }
   ],
   "source": [
    "holiday.head()"
   ]
  },
  {
   "cell_type": "code",
   "execution_count": 4,
   "id": "c6dfbb08",
   "metadata": {},
   "outputs": [],
   "source": [
    "train = pd.merge(train,holiday,on=\"date\",how=\"left\")"
   ]
  },
  {
   "cell_type": "markdown",
   "id": "b85b6542",
   "metadata": {},
   "source": [
    "### Merging too dataset train and item on \"item_nbr\""
   ]
  },
  {
   "cell_type": "code",
   "execution_count": 5,
   "id": "9c2ebd68",
   "metadata": {},
   "outputs": [],
   "source": [
    "item = pd.read_csv(\"cleaned_raw_dataset_2/clean_item_dataset.csv\")"
   ]
  },
  {
   "cell_type": "code",
   "execution_count": 6,
   "id": "fb7b5f21",
   "metadata": {},
   "outputs": [],
   "source": [
    "train=pd.merge(train,item,on=\"item_nbr\",how=\"left\")"
   ]
  },
  {
   "cell_type": "markdown",
   "id": "bdea23af",
   "metadata": {},
   "source": [
    "### Merging too dataset train and oil on \"date\"\n"
   ]
  },
  {
   "cell_type": "code",
   "execution_count": 7,
   "id": "30d380e7",
   "metadata": {},
   "outputs": [],
   "source": [
    "oil = pd.read_csv(\"cleaned_raw_dataset_2/clean_oil_dataset.csv\")"
   ]
  },
  {
   "cell_type": "code",
   "execution_count": 8,
   "id": "444a0434",
   "metadata": {},
   "outputs": [],
   "source": [
    "train=pd.merge(train,oil,on=\"date\",how=\"left\")"
   ]
  },
  {
   "cell_type": "markdown",
   "id": "3a00b359",
   "metadata": {},
   "source": [
    "### Merging too dataset train and store on \"store_nbr\""
   ]
  },
  {
   "cell_type": "markdown",
   "id": "298a5ca5",
   "metadata": {},
   "source": []
  },
  {
   "cell_type": "code",
   "execution_count": 9,
   "id": "9e685939",
   "metadata": {},
   "outputs": [],
   "source": [
    "store = pd.read_csv(\"cleaned_raw_dataset_2/clean_store_dataset.csv\")"
   ]
  },
  {
   "cell_type": "code",
   "execution_count": 10,
   "id": "ce940d30",
   "metadata": {},
   "outputs": [],
   "source": [
    "train=pd.merge(train,store,on=\"store_nbr\",how=\"left\")"
   ]
  },
  {
   "cell_type": "markdown",
   "id": "62810ac2",
   "metadata": {},
   "source": [
    "### Merging too dataset train and transaction on \"store_nbr, date\""
   ]
  },
  {
   "cell_type": "code",
   "execution_count": 11,
   "id": "dbdcbced",
   "metadata": {},
   "outputs": [],
   "source": [
    "tran = pd.read_csv(\"cleaned_raw_dataset_2/clean_transaction_dataset.csv\")"
   ]
  },
  {
   "cell_type": "code",
   "execution_count": 12,
   "id": "b241e0ba",
   "metadata": {},
   "outputs": [],
   "source": [
    "train=pd.merge(train,tran,on=[\"store_nbr\",\"date\"],how=\"left\")"
   ]
  },
  {
   "cell_type": "markdown",
   "id": "73fd45e1",
   "metadata": {},
   "source": [
    "## save the file"
   ]
  },
  {
   "cell_type": "code",
   "execution_count": 13,
   "id": "6b9a15fe",
   "metadata": {},
   "outputs": [],
   "source": [
    "train.to_csv(\"Merged_dataset/Merged_dataset_in_train.csv\",index=False)"
   ]
  },
  {
   "cell_type": "code",
   "execution_count": 14,
   "id": "ec0631ae",
   "metadata": {},
   "outputs": [
    {
     "data": {
      "text/plain": [
       "id                int64\n",
       "date             object\n",
       "store_nbr         int64\n",
       "item_nbr          int64\n",
       "unit_sales      float64\n",
       "onpromotion        bool\n",
       "Day_type         object\n",
       "locale           object\n",
       "locale_name      object\n",
       "description      object\n",
       "transferred      object\n",
       "family           object\n",
       "class             int64\n",
       "perishable        int64\n",
       "dcoilwtico      float64\n",
       "city             object\n",
       "state            object\n",
       "store_grade      object\n",
       "cluster           int64\n",
       "transactions      int64\n",
       "dtype: object"
      ]
     },
     "execution_count": 14,
     "metadata": {},
     "output_type": "execute_result"
    }
   ],
   "source": [
    "train.dtypes"
   ]
  }
 ],
 "metadata": {
  "kernelspec": {
   "display_name": "Python 3",
   "language": "python",
   "name": "python3"
  },
  "language_info": {
   "codemirror_mode": {
    "name": "ipython",
    "version": 3
   },
   "file_extension": ".py",
   "mimetype": "text/x-python",
   "name": "python",
   "nbconvert_exporter": "python",
   "pygments_lexer": "ipython3",
   "version": "3.12.9"
  }
 },
 "nbformat": 4,
 "nbformat_minor": 5
}
